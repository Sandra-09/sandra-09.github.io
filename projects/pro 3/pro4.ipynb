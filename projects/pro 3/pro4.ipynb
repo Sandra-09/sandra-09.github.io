{
 "cells": [
  {
   "cell_type": "code",
   "execution_count": 1,
   "metadata": {},
   "outputs": [],
   "source": [
    "import pandas as pd\n",
    "import matplotlib.pyplot as plt\n",
    "import numpy as np\n",
    "import seaborn as sns"
   ]
  },
  {
   "cell_type": "code",
   "execution_count": 2,
   "metadata": {
    "scrolled": true
   },
   "outputs": [
    {
     "name": "stderr",
     "output_type": "stream",
     "text": [
      "C:\\Users\\hzhdzt\\Anaconda3\\lib\\site-packages\\IPython\\core\\interactiveshell.py:3058: DtypeWarning: Columns (47) have mixed types. Specify dtype option on import or set low_memory=False.\n",
      "  interactivity=interactivity, compiler=compiler, result=result)\n"
     ]
    },
    {
     "data": {
      "text/html": [
       "<div>\n",
       "<style scoped>\n",
       "    .dataframe tbody tr th:only-of-type {\n",
       "        vertical-align: middle;\n",
       "    }\n",
       "\n",
       "    .dataframe tbody tr th {\n",
       "        vertical-align: top;\n",
       "    }\n",
       "\n",
       "    .dataframe thead th {\n",
       "        text-align: right;\n",
       "    }\n",
       "</style>\n",
       "<table border=\"1\" class=\"dataframe\">\n",
       "  <thead>\n",
       "    <tr style=\"text-align: right;\">\n",
       "      <th></th>\n",
       "      <th>id</th>\n",
       "      <th>member_id</th>\n",
       "      <th>loan_amnt</th>\n",
       "      <th>funded_amnt</th>\n",
       "      <th>funded_amnt_inv</th>\n",
       "      <th>term</th>\n",
       "      <th>int_rate</th>\n",
       "      <th>installment</th>\n",
       "      <th>grade</th>\n",
       "      <th>sub_grade</th>\n",
       "      <th>...</th>\n",
       "      <th>hardship_payoff_balance_amount</th>\n",
       "      <th>hardship_last_payment_amount</th>\n",
       "      <th>disbursement_method</th>\n",
       "      <th>debt_settlement_flag</th>\n",
       "      <th>debt_settlement_flag_date</th>\n",
       "      <th>settlement_status</th>\n",
       "      <th>settlement_date</th>\n",
       "      <th>settlement_amount</th>\n",
       "      <th>settlement_percentage</th>\n",
       "      <th>settlement_term</th>\n",
       "    </tr>\n",
       "  </thead>\n",
       "  <tbody>\n",
       "    <tr>\n",
       "      <th>31630</th>\n",
       "      <td>NaN</td>\n",
       "      <td>NaN</td>\n",
       "      <td>5000</td>\n",
       "      <td>5000</td>\n",
       "      <td>5000.0</td>\n",
       "      <td>36 months</td>\n",
       "      <td>17.77</td>\n",
       "      <td>180.19</td>\n",
       "      <td>D</td>\n",
       "      <td>D1</td>\n",
       "      <td>...</td>\n",
       "      <td>NaN</td>\n",
       "      <td>NaN</td>\n",
       "      <td>Cash</td>\n",
       "      <td>N</td>\n",
       "      <td>NaN</td>\n",
       "      <td>NaN</td>\n",
       "      <td>NaN</td>\n",
       "      <td>NaN</td>\n",
       "      <td>NaN</td>\n",
       "      <td>NaN</td>\n",
       "    </tr>\n",
       "    <tr>\n",
       "      <th>66577</th>\n",
       "      <td>NaN</td>\n",
       "      <td>NaN</td>\n",
       "      <td>12000</td>\n",
       "      <td>12000</td>\n",
       "      <td>11975.0</td>\n",
       "      <td>36 months</td>\n",
       "      <td>7.14</td>\n",
       "      <td>371.30</td>\n",
       "      <td>A</td>\n",
       "      <td>A3</td>\n",
       "      <td>...</td>\n",
       "      <td>NaN</td>\n",
       "      <td>NaN</td>\n",
       "      <td>Cash</td>\n",
       "      <td>N</td>\n",
       "      <td>NaN</td>\n",
       "      <td>NaN</td>\n",
       "      <td>NaN</td>\n",
       "      <td>NaN</td>\n",
       "      <td>NaN</td>\n",
       "      <td>NaN</td>\n",
       "    </tr>\n",
       "    <tr>\n",
       "      <th>24845</th>\n",
       "      <td>NaN</td>\n",
       "      <td>NaN</td>\n",
       "      <td>12000</td>\n",
       "      <td>12000</td>\n",
       "      <td>12000.0</td>\n",
       "      <td>36 months</td>\n",
       "      <td>7.90</td>\n",
       "      <td>375.49</td>\n",
       "      <td>A</td>\n",
       "      <td>A4</td>\n",
       "      <td>...</td>\n",
       "      <td>NaN</td>\n",
       "      <td>NaN</td>\n",
       "      <td>Cash</td>\n",
       "      <td>N</td>\n",
       "      <td>NaN</td>\n",
       "      <td>NaN</td>\n",
       "      <td>NaN</td>\n",
       "      <td>NaN</td>\n",
       "      <td>NaN</td>\n",
       "      <td>NaN</td>\n",
       "    </tr>\n",
       "  </tbody>\n",
       "</table>\n",
       "<p>3 rows × 145 columns</p>\n",
       "</div>"
      ],
      "text/plain": [
       "       id  member_id  loan_amnt  funded_amnt  funded_amnt_inv        term  \\\n",
       "31630 NaN        NaN       5000         5000           5000.0   36 months   \n",
       "66577 NaN        NaN      12000        12000          11975.0   36 months   \n",
       "24845 NaN        NaN      12000        12000          12000.0   36 months   \n",
       "\n",
       "       int_rate  installment grade sub_grade  ...  \\\n",
       "31630     17.77       180.19     D        D1  ...   \n",
       "66577      7.14       371.30     A        A3  ...   \n",
       "24845      7.90       375.49     A        A4  ...   \n",
       "\n",
       "      hardship_payoff_balance_amount hardship_last_payment_amount  \\\n",
       "31630                            NaN                          NaN   \n",
       "66577                            NaN                          NaN   \n",
       "24845                            NaN                          NaN   \n",
       "\n",
       "      disbursement_method  debt_settlement_flag debt_settlement_flag_date  \\\n",
       "31630                Cash                     N                       NaN   \n",
       "66577                Cash                     N                       NaN   \n",
       "24845                Cash                     N                       NaN   \n",
       "\n",
       "      settlement_status  settlement_date settlement_amount  \\\n",
       "31630               NaN              NaN               NaN   \n",
       "66577               NaN              NaN               NaN   \n",
       "24845               NaN              NaN               NaN   \n",
       "\n",
       "       settlement_percentage settlement_term  \n",
       "31630                    NaN             NaN  \n",
       "66577                    NaN             NaN  \n",
       "24845                    NaN             NaN  \n",
       "\n",
       "[3 rows x 145 columns]"
      ]
     },
     "execution_count": 2,
     "metadata": {},
     "output_type": "execute_result"
    }
   ],
   "source": [
    "daf=pd.read_csv('loan_sample.csv')\n",
    "daf.sample(3)"
   ]
  },
  {
   "cell_type": "code",
   "execution_count": 3,
   "metadata": {},
   "outputs": [
    {
     "data": {
      "text/plain": [
       "id                       100.000000\n",
       "member_id                100.000000\n",
       "loan_amnt                  0.000000\n",
       "funded_amnt                0.000000\n",
       "funded_amnt_inv            0.000000\n",
       "                            ...    \n",
       "settlement_status         97.584817\n",
       "settlement_date           97.584817\n",
       "settlement_amount         97.584817\n",
       "settlement_percentage     97.584817\n",
       "settlement_term           97.584817\n",
       "Length: 145, dtype: float64"
      ]
     },
     "execution_count": 3,
     "metadata": {},
     "output_type": "execute_result"
    }
   ],
   "source": [
    "daf.isna().mean()*100"
   ]
  },
  {
   "cell_type": "code",
   "execution_count": 4,
   "metadata": {},
   "outputs": [
    {
     "data": {
      "text/plain": [
       "(124297, 145)"
      ]
     },
     "execution_count": 4,
     "metadata": {},
     "output_type": "execute_result"
    }
   ],
   "source": [
    "daf.shape"
   ]
  },
  {
   "cell_type": "code",
   "execution_count": 5,
   "metadata": {},
   "outputs": [
    {
     "data": {
      "text/plain": [
       "87007.9"
      ]
     },
     "execution_count": 5,
     "metadata": {},
     "output_type": "execute_result"
    }
   ],
   "source": [
    "daf.shape[0]*0.7"
   ]
  },
  {
   "cell_type": "code",
   "execution_count": 6,
   "metadata": {},
   "outputs": [],
   "source": [
    "daf.dropna(thresh = 87007.9, axis = 1, inplace = True)"
   ]
  },
  {
   "cell_type": "code",
   "execution_count": 7,
   "metadata": {},
   "outputs": [
    {
     "data": {
      "text/plain": [
       "(124297, 87)"
      ]
     },
     "execution_count": 7,
     "metadata": {},
     "output_type": "execute_result"
    }
   ],
   "source": [
    "daf.shape"
   ]
  },
  {
   "cell_type": "code",
   "execution_count": 8,
   "metadata": {},
   "outputs": [
    {
     "data": {
      "text/plain": [
       "loan_amnt                     0.000000\n",
       "funded_amnt                   0.000000\n",
       "funded_amnt_inv               0.000000\n",
       "term                          0.000000\n",
       "int_rate                      0.000000\n",
       "                                ...   \n",
       "total_bc_limit                0.035882\n",
       "total_il_high_credit_limit    0.051176\n",
       "hardship_flag                 0.000008\n",
       "disbursement_method           0.000008\n",
       "debt_settlement_flag          0.000008\n",
       "Length: 87, dtype: float64"
      ]
     },
     "execution_count": 8,
     "metadata": {},
     "output_type": "execute_result"
    }
   ],
   "source": [
    "daf.isna().mean()"
   ]
  },
  {
   "cell_type": "code",
   "execution_count": 9,
   "metadata": {},
   "outputs": [],
   "source": [
    "daaf=daf[['loan_amnt', 'funded_amnt', 'funded_amnt_inv', 'term', 'int_rate',\n",
    "       'installment', 'grade', 'sub_grade', 'emp_title', 'emp_length',\n",
    "       'home_ownership', 'annual_inc', 'verification_status', 'issue_d',\n",
    "       'loan_status', 'pymnt_plan', 'purpose', 'title', 'zip_code',\n",
    "       'addr_state', 'dti', 'delinq_2yrs', 'earliest_cr_line',\n",
    "       'inq_last_6mths', 'open_acc', 'pub_rec', 'revol_bal', 'revol_util',\n",
    "       'total_acc', 'initial_list_status', 'out_prncp', 'out_prncp_inv'\n",
    "       ]]"
   ]
  },
  {
   "cell_type": "code",
   "execution_count": 10,
   "metadata": {},
   "outputs": [
    {
     "data": {
      "text/plain": [
       "array([ 7.,  8., 17., 18.,  9., 16., 12.,  4., 13., 15., 14., 10.,  6.,\n",
       "        5.,  3., 11., 22., 26., 28., 19., 29., 24., 21., 25., 20., 23.,\n",
       "       37.,  2., 30., 27., 32., 38., 35., 31.,  1., 42., 34.,  0., 40.,\n",
       "       39., 36., 33., 45., 53., 59., 41., 50., 47., 44., 43., 48., 57.,\n",
       "       46., 49., 52., 56., 55., 60., 51., 64., 74., 63., 54.])"
      ]
     },
     "execution_count": 10,
     "metadata": {},
     "output_type": "execute_result"
    }
   ],
   "source": [
    "daf.open_acc.unique()"
   ]
  },
  {
   "cell_type": "code",
   "execution_count": 11,
   "metadata": {},
   "outputs": [
    {
     "data": {
      "text/plain": [
       "loan_amnt              0.000000\n",
       "funded_amnt            0.000000\n",
       "funded_amnt_inv        0.000000\n",
       "term                   0.000000\n",
       "int_rate               0.000000\n",
       "installment            0.000000\n",
       "grade                  0.000000\n",
       "sub_grade              0.000000\n",
       "emp_title              0.064644\n",
       "emp_length             0.059213\n",
       "home_ownership         0.000000\n",
       "annual_inc             0.000000\n",
       "verification_status    0.000000\n",
       "issue_d                0.000000\n",
       "loan_status            0.000000\n",
       "pymnt_plan             0.000000\n",
       "purpose                0.000000\n",
       "title                  0.012036\n",
       "zip_code               0.000000\n",
       "addr_state             0.000000\n",
       "dti                    0.000225\n",
       "delinq_2yrs            0.000000\n",
       "earliest_cr_line       0.000000\n",
       "inq_last_6mths         0.000000\n",
       "open_acc               0.000000\n",
       "pub_rec                0.000000\n",
       "revol_bal              0.000000\n",
       "revol_util             0.000732\n",
       "total_acc              0.000000\n",
       "initial_list_status    0.000000\n",
       "out_prncp              0.000000\n",
       "out_prncp_inv          0.000000\n",
       "dtype: float64"
      ]
     },
     "execution_count": 11,
     "metadata": {},
     "output_type": "execute_result"
    }
   ],
   "source": [
    "daaf.isna().mean()"
   ]
  },
  {
   "cell_type": "code",
   "execution_count": 12,
   "metadata": {},
   "outputs": [],
   "source": [
    "daaaf=daf[['total_pymnt', 'total_pymnt_inv', 'total_rec_prncp', 'total_rec_int',\n",
    "       'total_rec_late_fee', 'recoveries', 'collection_recovery_fee',\n",
    "       'last_pymnt_d', 'last_pymnt_amnt', 'last_credit_pull_d',\n",
    "       'collections_12_mths_ex_med', 'policy_code', 'application_type',\n",
    "       'acc_now_delinq', 'tot_coll_amt', 'tot_cur_bal', 'total_rev_hi_lim',\n",
    "       'acc_open_past_24mths', 'avg_cur_bal', 'bc_open_to_buy', 'bc_util',\n",
    "       'chargeoff_within_12_mths', 'delinq_amnt', 'mo_sin_old_il_acct',\n",
    "       'mo_sin_old_rev_tl_op', 'mo_sin_rcnt_rev_tl_op', 'mo_sin_rcnt_tl',\n",
    "       'mort_acc', 'mths_since_recent_bc', 'mths_since_recent_inq']]"
   ]
  },
  {
   "cell_type": "code",
   "execution_count": 13,
   "metadata": {
    "scrolled": true
   },
   "outputs": [
    {
     "data": {
      "text/plain": [
       "total_pymnt                   0.000000\n",
       "total_pymnt_inv               0.000000\n",
       "total_rec_prncp               0.000000\n",
       "total_rec_int                 0.000008\n",
       "total_rec_late_fee            0.000008\n",
       "recoveries                    0.000008\n",
       "collection_recovery_fee       0.000008\n",
       "last_pymnt_d                  0.001738\n",
       "last_pymnt_amnt               0.000008\n",
       "last_credit_pull_d            0.000032\n",
       "collections_12_mths_ex_med    0.000064\n",
       "policy_code                   0.000008\n",
       "application_type              0.000008\n",
       "acc_now_delinq                0.000008\n",
       "tot_coll_amt                  0.051176\n",
       "tot_cur_bal                   0.051176\n",
       "total_rev_hi_lim              0.051176\n",
       "acc_open_past_24mths          0.035882\n",
       "avg_cur_bal                   0.051200\n",
       "bc_open_to_buy                0.046107\n",
       "bc_util                       0.046703\n",
       "chargeoff_within_12_mths      0.000064\n",
       "delinq_amnt                   0.000008\n",
       "mo_sin_old_il_acct            0.080324\n",
       "mo_sin_old_rev_tl_op          0.051176\n",
       "mo_sin_rcnt_rev_tl_op         0.051176\n",
       "mo_sin_rcnt_tl                0.051176\n",
       "mort_acc                      0.035882\n",
       "mths_since_recent_bc          0.045496\n",
       "mths_since_recent_inq         0.131339\n",
       "dtype: float64"
      ]
     },
     "execution_count": 13,
     "metadata": {},
     "output_type": "execute_result"
    }
   ],
   "source": [
    "daaaf.isna().mean()"
   ]
  },
  {
   "cell_type": "code",
   "execution_count": 14,
   "metadata": {},
   "outputs": [
    {
     "data": {
      "text/plain": [
       "0         22.0\n",
       "1         16.0\n",
       "2         27.0\n",
       "3         35.0\n",
       "4         25.0\n",
       "          ... \n",
       "124292    24.0\n",
       "124293    21.0\n",
       "124294    13.0\n",
       "124295    35.0\n",
       "124296    15.0\n",
       "Name: total_acc, Length: 124297, dtype: float64"
      ]
     },
     "execution_count": 14,
     "metadata": {},
     "output_type": "execute_result"
    }
   ],
   "source": [
    "daf.total_acc"
   ]
  },
  {
   "cell_type": "code",
   "execution_count": 15,
   "metadata": {
    "scrolled": false
   },
   "outputs": [
    {
     "data": {
      "text/plain": [
       "Index(['loan_amnt', 'funded_amnt', 'funded_amnt_inv', 'term', 'int_rate',\n",
       "       'installment', 'grade', 'sub_grade', 'emp_title', 'emp_length',\n",
       "       'home_ownership', 'annual_inc', 'verification_status', 'issue_d',\n",
       "       'loan_status', 'pymnt_plan', 'purpose', 'title', 'zip_code',\n",
       "       'addr_state', 'dti', 'delinq_2yrs', 'earliest_cr_line',\n",
       "       'inq_last_6mths', 'open_acc', 'pub_rec', 'revol_bal', 'revol_util',\n",
       "       'total_acc', 'initial_list_status', 'out_prncp', 'out_prncp_inv',\n",
       "       'total_pymnt', 'total_pymnt_inv', 'total_rec_prncp', 'total_rec_int',\n",
       "       'total_rec_late_fee', 'recoveries', 'collection_recovery_fee',\n",
       "       'last_pymnt_d', 'last_pymnt_amnt', 'last_credit_pull_d',\n",
       "       'collections_12_mths_ex_med', 'policy_code', 'application_type',\n",
       "       'acc_now_delinq', 'tot_coll_amt', 'tot_cur_bal', 'total_rev_hi_lim',\n",
       "       'acc_open_past_24mths', 'avg_cur_bal', 'bc_open_to_buy', 'bc_util',\n",
       "       'chargeoff_within_12_mths', 'delinq_amnt', 'mo_sin_old_il_acct',\n",
       "       'mo_sin_old_rev_tl_op', 'mo_sin_rcnt_rev_tl_op', 'mo_sin_rcnt_tl',\n",
       "       'mort_acc', 'mths_since_recent_bc', 'mths_since_recent_inq',\n",
       "       'num_accts_ever_120_pd', 'num_actv_bc_tl', 'num_actv_rev_tl',\n",
       "       'num_bc_sats', 'num_bc_tl', 'num_il_tl', 'num_op_rev_tl',\n",
       "       'num_rev_accts', 'num_rev_tl_bal_gt_0', 'num_sats', 'num_tl_120dpd_2m',\n",
       "       'num_tl_30dpd', 'num_tl_90g_dpd_24m', 'num_tl_op_past_12m',\n",
       "       'pct_tl_nvr_dlq', 'percent_bc_gt_75', 'pub_rec_bankruptcies',\n",
       "       'tax_liens', 'tot_hi_cred_lim', 'total_bal_ex_mort', 'total_bc_limit',\n",
       "       'total_il_high_credit_limit', 'hardship_flag', 'disbursement_method',\n",
       "       'debt_settlement_flag'],\n",
       "      dtype='object')"
      ]
     },
     "execution_count": 15,
     "metadata": {},
     "output_type": "execute_result"
    }
   ],
   "source": [
    "daf.columns"
   ]
  },
  {
   "cell_type": "code",
   "execution_count": 16,
   "metadata": {},
   "outputs": [
    {
     "data": {
      "text/plain": [
       "1336      0\n",
       "7465      0\n",
       "97536     0\n",
       "63958     0\n",
       "100469    0\n",
       "Name: loan_status, dtype: int64"
      ]
     },
     "execution_count": 16,
     "metadata": {},
     "output_type": "execute_result"
    }
   ],
   "source": [
    "daf['loan_status'].sample(5)"
   ]
  },
  {
   "cell_type": "code",
   "execution_count": 17,
   "metadata": {},
   "outputs": [
    {
     "data": {
      "text/plain": [
       "0    99301\n",
       "1    24996\n",
       "Name: loan_status, dtype: int64"
      ]
     },
     "execution_count": 17,
     "metadata": {},
     "output_type": "execute_result"
    }
   ],
   "source": [
    "daf['loan_status'].value_counts()"
   ]
  },
  {
   "cell_type": "code",
   "execution_count": 18,
   "metadata": {},
   "outputs": [
    {
     "data": {
      "text/plain": [
       "0         0.0\n",
       "1         0.0\n",
       "2         0.0\n",
       "3         0.0\n",
       "4         0.0\n",
       "         ... \n",
       "124292    0.0\n",
       "124293    1.0\n",
       "124294    0.0\n",
       "124295    0.0\n",
       "124296    0.0\n",
       "Name: delinq_2yrs, Length: 124297, dtype: float64"
      ]
     },
     "execution_count": 18,
     "metadata": {},
     "output_type": "execute_result"
    }
   ],
   "source": [
    "daf['delinq_2yrs']"
   ]
  },
  {
   "cell_type": "code",
   "execution_count": 19,
   "metadata": {
    "scrolled": true
   },
   "outputs": [
    {
     "data": {
      "text/plain": [
       "<matplotlib.axes._subplots.AxesSubplot at 0x198b9a6b888>"
      ]
     },
     "execution_count": 19,
     "metadata": {},
     "output_type": "execute_result"
    },
    {
     "data": {
      "image/png": "[encoded data removed]",
      "text/plain": [
       "<Figure size 432x288 with 1 Axes>"
      ]
     },
     "metadata": {
      "needs_background": "light"
     },
     "output_type": "display_data"
    }
   ],
   "source": [
    "daf['loan_status'].value_counts().plot(kind='bar')"
   ]
  },
  {
   "cell_type": "code",
   "execution_count": 20,
   "metadata": {},
   "outputs": [
    {
     "data": {
      "text/html": [
       "<div>\n",
       "<style scoped>\n",
       "    .dataframe tbody tr th:only-of-type {\n",
       "        vertical-align: middle;\n",
       "    }\n",
       "\n",
       "    .dataframe tbody tr th {\n",
       "        vertical-align: top;\n",
       "    }\n",
       "\n",
       "    .dataframe thead th {\n",
       "        text-align: right;\n",
       "    }\n",
       "</style>\n",
       "<table border=\"1\" class=\"dataframe\">\n",
       "  <thead>\n",
       "    <tr style=\"text-align: right;\">\n",
       "      <th></th>\n",
       "      <th>loan_amnt</th>\n",
       "      <th>funded_amnt</th>\n",
       "      <th>funded_amnt_inv</th>\n",
       "      <th>int_rate</th>\n",
       "      <th>installment</th>\n",
       "      <th>annual_inc</th>\n",
       "      <th>loan_status</th>\n",
       "      <th>dti</th>\n",
       "      <th>delinq_2yrs</th>\n",
       "      <th>inq_last_6mths</th>\n",
       "      <th>...</th>\n",
       "      <th>num_tl_90g_dpd_24m</th>\n",
       "      <th>num_tl_op_past_12m</th>\n",
       "      <th>pct_tl_nvr_dlq</th>\n",
       "      <th>percent_bc_gt_75</th>\n",
       "      <th>pub_rec_bankruptcies</th>\n",
       "      <th>tax_liens</th>\n",
       "      <th>tot_hi_cred_lim</th>\n",
       "      <th>total_bal_ex_mort</th>\n",
       "      <th>total_bc_limit</th>\n",
       "      <th>total_il_high_credit_limit</th>\n",
       "    </tr>\n",
       "  </thead>\n",
       "  <tbody>\n",
       "    <tr>\n",
       "      <th>loan_amnt</th>\n",
       "      <td>1.000000</td>\n",
       "      <td>0.999570</td>\n",
       "      <td>0.998487</td>\n",
       "      <td>0.142644</td>\n",
       "      <td>0.953658</td>\n",
       "      <td>0.316780</td>\n",
       "      <td>0.061095</td>\n",
       "      <td>0.026751</td>\n",
       "      <td>-0.000471</td>\n",
       "      <td>-0.016911</td>\n",
       "      <td>...</td>\n",
       "      <td>-0.019836</td>\n",
       "      <td>-0.023666</td>\n",
       "      <td>0.086766</td>\n",
       "      <td>0.016606</td>\n",
       "      <td>-0.092613</td>\n",
       "      <td>0.012720</td>\n",
       "      <td>0.332565</td>\n",
       "      <td>0.279242</td>\n",
       "      <td>0.375555</td>\n",
       "      <td>0.200416</td>\n",
       "    </tr>\n",
       "    <tr>\n",
       "      <th>funded_amnt</th>\n",
       "      <td>0.999570</td>\n",
       "      <td>1.000000</td>\n",
       "      <td>0.999001</td>\n",
       "      <td>0.142625</td>\n",
       "      <td>0.954325</td>\n",
       "      <td>0.316704</td>\n",
       "      <td>0.061154</td>\n",
       "      <td>0.027134</td>\n",
       "      <td>-0.000252</td>\n",
       "      <td>-0.017227</td>\n",
       "      <td>...</td>\n",
       "      <td>-0.019836</td>\n",
       "      <td>-0.023666</td>\n",
       "      <td>0.086766</td>\n",
       "      <td>0.016581</td>\n",
       "      <td>-0.092452</td>\n",
       "      <td>0.012855</td>\n",
       "      <td>0.332565</td>\n",
       "      <td>0.279248</td>\n",
       "      <td>0.375571</td>\n",
       "      <td>0.200416</td>\n",
       "    </tr>\n",
       "    <tr>\n",
       "      <th>funded_amnt_inv</th>\n",
       "      <td>0.998487</td>\n",
       "      <td>0.999001</td>\n",
       "      <td>1.000000</td>\n",
       "      <td>0.142799</td>\n",
       "      <td>0.953255</td>\n",
       "      <td>0.316478</td>\n",
       "      <td>0.060853</td>\n",
       "      <td>0.028080</td>\n",
       "      <td>0.000186</td>\n",
       "      <td>-0.017719</td>\n",
       "      <td>...</td>\n",
       "      <td>-0.019853</td>\n",
       "      <td>-0.023677</td>\n",
       "      <td>0.086798</td>\n",
       "      <td>0.016523</td>\n",
       "      <td>-0.091940</td>\n",
       "      <td>0.013119</td>\n",
       "      <td>0.332587</td>\n",
       "      <td>0.279253</td>\n",
       "      <td>0.375601</td>\n",
       "      <td>0.200416</td>\n",
       "    </tr>\n",
       "    <tr>\n",
       "      <th>int_rate</th>\n",
       "      <td>0.142644</td>\n",
       "      <td>0.142625</td>\n",
       "      <td>0.142799</td>\n",
       "      <td>1.000000</td>\n",
       "      <td>0.152919</td>\n",
       "      <td>-0.073792</td>\n",
       "      <td>0.255761</td>\n",
       "      <td>0.150495</td>\n",
       "      <td>0.047131</td>\n",
       "      <td>0.221520</td>\n",
       "      <td>...</td>\n",
       "      <td>0.026386</td>\n",
       "      <td>0.208087</td>\n",
       "      <td>-0.061014</td>\n",
       "      <td>0.246534</td>\n",
       "      <td>0.060828</td>\n",
       "      <td>0.011855</td>\n",
       "      <td>-0.116036</td>\n",
       "      <td>0.002977</td>\n",
       "      <td>-0.227132</td>\n",
       "      <td>-0.005128</td>\n",
       "    </tr>\n",
       "    <tr>\n",
       "      <th>installment</th>\n",
       "      <td>0.953658</td>\n",
       "      <td>0.954325</td>\n",
       "      <td>0.953255</td>\n",
       "      <td>0.152919</td>\n",
       "      <td>1.000000</td>\n",
       "      <td>0.306381</td>\n",
       "      <td>0.047978</td>\n",
       "      <td>0.031241</td>\n",
       "      <td>0.008347</td>\n",
       "      <td>0.004103</td>\n",
       "      <td>...</td>\n",
       "      <td>-0.015020</td>\n",
       "      <td>-0.004162</td>\n",
       "      <td>0.070120</td>\n",
       "      <td>0.035214</td>\n",
       "      <td>-0.085056</td>\n",
       "      <td>0.020612</td>\n",
       "      <td>0.299896</td>\n",
       "      <td>0.263233</td>\n",
       "      <td>0.342645</td>\n",
       "      <td>0.185499</td>\n",
       "    </tr>\n",
       "    <tr>\n",
       "      <th>...</th>\n",
       "      <td>...</td>\n",
       "      <td>...</td>\n",
       "      <td>...</td>\n",
       "      <td>...</td>\n",
       "      <td>...</td>\n",
       "      <td>...</td>\n",
       "      <td>...</td>\n",
       "      <td>...</td>\n",
       "      <td>...</td>\n",
       "      <td>...</td>\n",
       "      <td>...</td>\n",
       "      <td>...</td>\n",
       "      <td>...</td>\n",
       "      <td>...</td>\n",
       "      <td>...</td>\n",
       "      <td>...</td>\n",
       "      <td>...</td>\n",
       "      <td>...</td>\n",
       "      <td>...</td>\n",
       "      <td>...</td>\n",
       "      <td>...</td>\n",
       "    </tr>\n",
       "    <tr>\n",
       "      <th>tax_liens</th>\n",
       "      <td>0.012720</td>\n",
       "      <td>0.012855</td>\n",
       "      <td>0.013119</td>\n",
       "      <td>0.011855</td>\n",
       "      <td>0.020612</td>\n",
       "      <td>0.047081</td>\n",
       "      <td>0.012573</td>\n",
       "      <td>-0.028874</td>\n",
       "      <td>0.011805</td>\n",
       "      <td>0.011925</td>\n",
       "      <td>...</td>\n",
       "      <td>-0.002611</td>\n",
       "      <td>0.013437</td>\n",
       "      <td>-0.034569</td>\n",
       "      <td>-0.023593</td>\n",
       "      <td>0.035521</td>\n",
       "      <td>1.000000</td>\n",
       "      <td>0.001103</td>\n",
       "      <td>-0.000716</td>\n",
       "      <td>-0.020613</td>\n",
       "      <td>0.005283</td>\n",
       "    </tr>\n",
       "    <tr>\n",
       "      <th>tot_hi_cred_lim</th>\n",
       "      <td>0.332565</td>\n",
       "      <td>0.332565</td>\n",
       "      <td>0.332587</td>\n",
       "      <td>-0.116036</td>\n",
       "      <td>0.299896</td>\n",
       "      <td>0.405236</td>\n",
       "      <td>-0.076735</td>\n",
       "      <td>0.010631</td>\n",
       "      <td>0.059729</td>\n",
       "      <td>0.025810</td>\n",
       "      <td>...</td>\n",
       "      <td>0.006647</td>\n",
       "      <td>0.081945</td>\n",
       "      <td>0.025475</td>\n",
       "      <td>-0.019240</td>\n",
       "      <td>-0.106133</td>\n",
       "      <td>0.001103</td>\n",
       "      <td>1.000000</td>\n",
       "      <td>0.487633</td>\n",
       "      <td>0.390174</td>\n",
       "      <td>0.384434</td>\n",
       "    </tr>\n",
       "    <tr>\n",
       "      <th>total_bal_ex_mort</th>\n",
       "      <td>0.279242</td>\n",
       "      <td>0.279248</td>\n",
       "      <td>0.279253</td>\n",
       "      <td>0.002977</td>\n",
       "      <td>0.263233</td>\n",
       "      <td>0.315488</td>\n",
       "      <td>-0.004217</td>\n",
       "      <td>0.237535</td>\n",
       "      <td>0.035945</td>\n",
       "      <td>0.033332</td>\n",
       "      <td>...</td>\n",
       "      <td>0.017885</td>\n",
       "      <td>0.116701</td>\n",
       "      <td>0.061682</td>\n",
       "      <td>0.056936</td>\n",
       "      <td>-0.077444</td>\n",
       "      <td>-0.000716</td>\n",
       "      <td>0.487633</td>\n",
       "      <td>1.000000</td>\n",
       "      <td>0.277821</td>\n",
       "      <td>0.875596</td>\n",
       "    </tr>\n",
       "    <tr>\n",
       "      <th>total_bc_limit</th>\n",
       "      <td>0.375555</td>\n",
       "      <td>0.375571</td>\n",
       "      <td>0.375601</td>\n",
       "      <td>-0.227132</td>\n",
       "      <td>0.342645</td>\n",
       "      <td>0.273672</td>\n",
       "      <td>-0.074366</td>\n",
       "      <td>0.024596</td>\n",
       "      <td>-0.076622</td>\n",
       "      <td>-0.006796</td>\n",
       "      <td>...</td>\n",
       "      <td>-0.059532</td>\n",
       "      <td>0.038534</td>\n",
       "      <td>0.215955</td>\n",
       "      <td>-0.218473</td>\n",
       "      <td>-0.155567</td>\n",
       "      <td>-0.020613</td>\n",
       "      <td>0.390174</td>\n",
       "      <td>0.277821</td>\n",
       "      <td>1.000000</td>\n",
       "      <td>0.109721</td>\n",
       "    </tr>\n",
       "    <tr>\n",
       "      <th>total_il_high_credit_limit</th>\n",
       "      <td>0.200416</td>\n",
       "      <td>0.200416</td>\n",
       "      <td>0.200416</td>\n",
       "      <td>-0.005128</td>\n",
       "      <td>0.185499</td>\n",
       "      <td>0.260642</td>\n",
       "      <td>-0.002877</td>\n",
       "      <td>0.267000</td>\n",
       "      <td>0.066178</td>\n",
       "      <td>0.042983</td>\n",
       "      <td>...</td>\n",
       "      <td>0.037472</td>\n",
       "      <td>0.141105</td>\n",
       "      <td>0.014805</td>\n",
       "      <td>0.007365</td>\n",
       "      <td>-0.033761</td>\n",
       "      <td>0.005283</td>\n",
       "      <td>0.384434</td>\n",
       "      <td>0.875596</td>\n",
       "      <td>0.109721</td>\n",
       "      <td>1.000000</td>\n",
       "    </tr>\n",
       "  </tbody>\n",
       "</table>\n",
       "<p>66 rows × 66 columns</p>\n",
       "</div>"
      ],
      "text/plain": [
       "                            loan_amnt  funded_amnt  funded_amnt_inv  int_rate  \\\n",
       "loan_amnt                    1.000000     0.999570         0.998487  0.142644   \n",
       "funded_amnt                  0.999570     1.000000         0.999001  0.142625   \n",
       "funded_amnt_inv              0.998487     0.999001         1.000000  0.142799   \n",
       "int_rate                     0.142644     0.142625         0.142799  1.000000   \n",
       "installment                  0.953658     0.954325         0.953255  0.152919   \n",
       "...                               ...          ...              ...       ...   \n",
       "tax_liens                    0.012720     0.012855         0.013119  0.011855   \n",
       "tot_hi_cred_lim              0.332565     0.332565         0.332587 -0.116036   \n",
       "total_bal_ex_mort            0.279242     0.279248         0.279253  0.002977   \n",
       "total_bc_limit               0.375555     0.375571         0.375601 -0.227132   \n",
       "total_il_high_credit_limit   0.200416     0.200416         0.200416 -0.005128   \n",
       "\n",
       "                            installment  annual_inc  loan_status       dti  \\\n",
       "loan_amnt                      0.953658    0.316780     0.061095  0.026751   \n",
       "funded_amnt                    0.954325    0.316704     0.061154  0.027134   \n",
       "funded_amnt_inv                0.953255    0.316478     0.060853  0.028080   \n",
       "int_rate                       0.152919   -0.073792     0.255761  0.150495   \n",
       "installment                    1.000000    0.306381     0.047978  0.031241   \n",
       "...                                 ...         ...          ...       ...   \n",
       "tax_liens                      0.020612    0.047081     0.012573 -0.028874   \n",
       "tot_hi_cred_lim                0.299896    0.405236    -0.076735  0.010631   \n",
       "total_bal_ex_mort              0.263233    0.315488    -0.004217  0.237535   \n",
       "total_bc_limit                 0.342645    0.273672    -0.074366  0.024596   \n",
       "total_il_high_credit_limit     0.185499    0.260642    -0.002877  0.267000   \n",
       "\n",
       "                            delinq_2yrs  inq_last_6mths  ...  \\\n",
       "loan_amnt                     -0.000471       -0.016911  ...   \n",
       "funded_amnt                   -0.000252       -0.017227  ...   \n",
       "funded_amnt_inv                0.000186       -0.017719  ...   \n",
       "int_rate                       0.047131        0.221520  ...   \n",
       "installment                    0.008347        0.004103  ...   \n",
       "...                                 ...             ...  ...   \n",
       "tax_liens                      0.011805        0.011925  ...   \n",
       "tot_hi_cred_lim                0.059729        0.025810  ...   \n",
       "total_bal_ex_mort              0.035945        0.033332  ...   \n",
       "total_bc_limit                -0.076622       -0.006796  ...   \n",
       "total_il_high_credit_limit     0.066178        0.042983  ...   \n",
       "\n",
       "                            num_tl_90g_dpd_24m  num_tl_op_past_12m  \\\n",
       "loan_amnt                            -0.019836           -0.023666   \n",
       "funded_amnt                          -0.019836           -0.023666   \n",
       "funded_amnt_inv                      -0.019853           -0.023677   \n",
       "int_rate                              0.026386            0.208087   \n",
       "installment                          -0.015020           -0.004162   \n",
       "...                                        ...                 ...   \n",
       "tax_liens                            -0.002611            0.013437   \n",
       "tot_hi_cred_lim                       0.006647            0.081945   \n",
       "total_bal_ex_mort                     0.017885            0.116701   \n",
       "total_bc_limit                       -0.059532            0.038534   \n",
       "total_il_high_credit_limit            0.037472            0.141105   \n",
       "\n",
       "                            pct_tl_nvr_dlq  percent_bc_gt_75  \\\n",
       "loan_amnt                         0.086766          0.016606   \n",
       "funded_amnt                       0.086766          0.016581   \n",
       "funded_amnt_inv                   0.086798          0.016523   \n",
       "int_rate                         -0.061014          0.246534   \n",
       "installment                       0.070120          0.035214   \n",
       "...                                    ...               ...   \n",
       "tax_liens                        -0.034569         -0.023593   \n",
       "tot_hi_cred_lim                   0.025475         -0.019240   \n",
       "total_bal_ex_mort                 0.061682          0.056936   \n",
       "total_bc_limit                    0.215955         -0.218473   \n",
       "total_il_high_credit_limit        0.014805          0.007365   \n",
       "\n",
       "                            pub_rec_bankruptcies  tax_liens  tot_hi_cred_lim  \\\n",
       "loan_amnt                              -0.092613   0.012720         0.332565   \n",
       "funded_amnt                            -0.092452   0.012855         0.332565   \n",
       "funded_amnt_inv                        -0.091940   0.013119         0.332587   \n",
       "int_rate                                0.060828   0.011855        -0.116036   \n",
       "installment                            -0.085056   0.020612         0.299896   \n",
       "...                                          ...        ...              ...   \n",
       "tax_liens                               0.035521   1.000000         0.001103   \n",
       "tot_hi_cred_lim                        -0.106133   0.001103         1.000000   \n",
       "total_bal_ex_mort                      -0.077444  -0.000716         0.487633   \n",
       "total_bc_limit                         -0.155567  -0.020613         0.390174   \n",
       "total_il_high_credit_limit             -0.033761   0.005283         0.384434   \n",
       "\n",
       "                            total_bal_ex_mort  total_bc_limit  \\\n",
       "loan_amnt                            0.279242        0.375555   \n",
       "funded_amnt                          0.279248        0.375571   \n",
       "funded_amnt_inv                      0.279253        0.375601   \n",
       "int_rate                             0.002977       -0.227132   \n",
       "installment                          0.263233        0.342645   \n",
       "...                                       ...             ...   \n",
       "tax_liens                           -0.000716       -0.020613   \n",
       "tot_hi_cred_lim                      0.487633        0.390174   \n",
       "total_bal_ex_mort                    1.000000        0.277821   \n",
       "total_bc_limit                       0.277821        1.000000   \n",
       "total_il_high_credit_limit           0.875596        0.109721   \n",
       "\n",
       "                            total_il_high_credit_limit  \n",
       "loan_amnt                                     0.200416  \n",
       "funded_amnt                                   0.200416  \n",
       "funded_amnt_inv                               0.200416  \n",
       "int_rate                                     -0.005128  \n",
       "installment                                   0.185499  \n",
       "...                                                ...  \n",
       "tax_liens                                     0.005283  \n",
       "tot_hi_cred_lim                               0.384434  \n",
       "total_bal_ex_mort                             0.875596  \n",
       "total_bc_limit                                0.109721  \n",
       "total_il_high_credit_limit                    1.000000  \n",
       "\n",
       "[66 rows x 66 columns]"
      ]
     },
     "execution_count": 20,
     "metadata": {},
     "output_type": "execute_result"
    }
   ],
   "source": [
    "daf.corr()"
   ]
  },
  {
   "cell_type": "code",
   "execution_count": 21,
   "metadata": {},
   "outputs": [],
   "source": [
    "df1=daf[['loan_amnt', 'funded_amnt', 'funded_amnt_inv', 'term', 'int_rate',\n",
    "       'installment', 'grade', 'sub_grade', 'emp_title', 'emp_length',\n",
    "       'home_ownership', 'annual_inc', 'verification_status', 'issue_d',\n",
    "       'loan_status', 'pymnt_plan', 'purpose', 'title', 'zip_code',\n",
    "       'addr_state', 'dti', 'delinq_2yrs', 'earliest_cr_line',\n",
    "       'inq_last_6mths', 'open_acc', 'pub_rec', 'revol_bal', 'revol_util',\n",
    "       'total_acc', 'initial_list_status', 'out_prncp', 'out_prncp_inv',\n",
    "       'total_pymnt', 'total_pymnt_inv', 'total_rec_prncp', 'total_rec_int']]"
   ]
  },
  {
   "cell_type": "code",
   "execution_count": 22,
   "metadata": {},
   "outputs": [
    {
     "data": {
      "text/plain": [
       "<matplotlib.axes._subplots.AxesSubplot at 0x198b9a6a4c8>"
      ]
     },
     "execution_count": 22,
     "metadata": {},
     "output_type": "execute_result"
    },
    {
     "data": {
      "image/png": "[encoded data removed]",
      "text/plain": [
       "<Figure size 432x288 with 2 Axes>"
      ]
     },
     "metadata": {
      "needs_background": "light"
     },
     "output_type": "display_data"
    }
   ],
   "source": [
    "sns.heatmap(df1.corr())"
   ]
  },
  {
   "cell_type": "code",
   "execution_count": 23,
   "metadata": {},
   "outputs": [],
   "source": [
    "df2=daf[['loan_status','total_rec_late_fee', 'recoveries', 'collection_recovery_fee',\n",
    "       'last_pymnt_d', 'last_pymnt_amnt', 'last_credit_pull_d',\n",
    "       'collections_12_mths_ex_med', 'policy_code', 'application_type',\n",
    "       'acc_now_delinq', 'tot_coll_amt', 'tot_cur_bal', 'total_rev_hi_lim',\n",
    "       'acc_open_past_24mths', 'avg_cur_bal', 'bc_open_to_buy', 'bc_util',\n",
    "       'chargeoff_within_12_mths', 'delinq_amnt', 'mo_sin_old_il_acct',\n",
    "       'mo_sin_old_rev_tl_op', 'mo_sin_rcnt_rev_tl_op', 'mo_sin_rcnt_tl',\n",
    "       'mort_acc', 'mths_since_recent_bc', 'mths_since_recent_inq',\n",
    "       'num_accts_ever_120_pd', 'num_actv_bc_tl', 'num_actv_rev_tl']]"
   ]
  },
  {
   "cell_type": "code",
   "execution_count": 24,
   "metadata": {},
   "outputs": [
    {
     "data": {
      "text/plain": [
       "<matplotlib.axes._subplots.AxesSubplot at 0x198b9b8fdc8>"
      ]
     },
     "execution_count": 24,
     "metadata": {},
     "output_type": "execute_result"
    },
    {
     "data": {
      "image/png": "[encoded data removed]",
      "text/plain": [
       "<Figure size 432x288 with 2 Axes>"
      ]
     },
     "metadata": {
      "needs_background": "light"
     },
     "output_type": "display_data"
    }
   ],
   "source": [
    "sns.heatmap(df2.corr())"
   ]
  },
  {
   "cell_type": "code",
   "execution_count": 25,
   "metadata": {},
   "outputs": [],
   "source": [
    "df3=daf[[ 'loan_status',\n",
    "       'tax_liens', 'tot_hi_cred_lim', 'total_bal_ex_mort', 'total_bc_limit',\n",
    "       'total_il_high_credit_limit', 'hardship_flag', 'disbursement_method',\n",
    "       'debt_settlement_flag','num_bc_sats', 'num_bc_tl', 'num_il_tl', 'num_op_rev_tl',\n",
    "       'num_rev_accts', 'num_rev_tl_bal_gt_0', 'num_sats', 'num_tl_120dpd_2m',\n",
    "       'num_tl_30dpd', 'num_tl_90g_dpd_24m', 'num_tl_op_past_12m',\n",
    "       'pct_tl_nvr_dlq', 'percent_bc_gt_75', 'pub_rec_bankruptcies',]]"
   ]
  },
  {
   "cell_type": "code",
   "execution_count": 26,
   "metadata": {},
   "outputs": [
    {
     "data": {
      "text/plain": [
       "<matplotlib.axes._subplots.AxesSubplot at 0x198b9b89588>"
      ]
     },
     "execution_count": 26,
     "metadata": {},
     "output_type": "execute_result"
    },
    {
     "data": {
      "image/png": "[encoded data removed]",
      "text/plain": [
       "<Figure size 432x288 with 2 Axes>"
      ]
     },
     "metadata": {
      "needs_background": "light"
     },
     "output_type": "display_data"
    }
   ],
   "source": [
    "sns.heatmap(df3.corr())"
   ]
  },
  {
   "cell_type": "code",
   "execution_count": 27,
   "metadata": {},
   "outputs": [],
   "source": [
    "daf=daf.replace(to_replace=['A','B','C','D','E','F','G'], value=(7,6,5,4,3,2,1))"
   ]
  },
  {
   "cell_type": "code",
   "execution_count": 28,
   "metadata": {},
   "outputs": [
    {
     "data": {
      "text/plain": [
       "0         6\n",
       "1         7\n",
       "2         6\n",
       "3         5\n",
       "4         6\n",
       "         ..\n",
       "124292    3\n",
       "124293    7\n",
       "124294    5\n",
       "124295    7\n",
       "124296    7\n",
       "Name: grade, Length: 124297, dtype: int64"
      ]
     },
     "execution_count": 28,
     "metadata": {},
     "output_type": "execute_result"
    }
   ],
   "source": [
    "daf.grade"
   ]
  },
  {
   "cell_type": "code",
   "execution_count": 29,
   "metadata": {},
   "outputs": [
    {
     "data": {
      "text/plain": [
       "array(['RENT', 'MORTGAGE', 'OWN', 'OTHER', 'ANY', 'NONE'], dtype=object)"
      ]
     },
     "execution_count": 29,
     "metadata": {},
     "output_type": "execute_result"
    }
   ],
   "source": [
    "daf.home_ownership.unique()"
   ]
  },
  {
   "cell_type": "code",
   "execution_count": 30,
   "metadata": {
    "scrolled": true
   },
   "outputs": [],
   "source": [
    "daf=daf.replace(to_replace=['MORTGAGE','RENT','OTHER','OWN','ANY','NONE'], value=(1,2,3,4,5,6))"
   ]
  },
  {
   "cell_type": "code",
   "execution_count": 31,
   "metadata": {},
   "outputs": [
    {
     "data": {
      "text/plain": [
       "0         2\n",
       "1         1\n",
       "2         2\n",
       "3         1\n",
       "4         1\n",
       "         ..\n",
       "124292    1\n",
       "124293    2\n",
       "124294    4\n",
       "124295    2\n",
       "124296    2\n",
       "Name: home_ownership, Length: 124297, dtype: int64"
      ]
     },
     "execution_count": 31,
     "metadata": {},
     "output_type": "execute_result"
    }
   ],
   "source": [
    "daf.home_ownership"
   ]
  },
  {
   "cell_type": "code",
   "execution_count": 32,
   "metadata": {
    "scrolled": true
   },
   "outputs": [
    {
     "data": {
      "text/plain": [
       "0         25251.046476\n",
       "1          8602.708787\n",
       "2          6518.164684\n",
       "3          6369.200907\n",
       "4          9633.193533\n",
       "              ...     \n",
       "124292    16663.545584\n",
       "124293    36162.328921\n",
       "124294     9889.337306\n",
       "124295     7594.542344\n",
       "124296     1371.707465\n",
       "Name: total_pymnt, Length: 124297, dtype: float64"
      ]
     },
     "execution_count": 32,
     "metadata": {},
     "output_type": "execute_result"
    }
   ],
   "source": [
    "daf['total_pymnt']"
   ]
  },
  {
   "cell_type": "code",
   "execution_count": 33,
   "metadata": {},
   "outputs": [],
   "source": [
    "pred1=daf[['loan_amnt','funded_amnt_inv','funded_amnt','int_rate','annual_inc','dti',\n",
    "        'tax_liens','pub_rec_bankruptcies','grade','home_ownership','num_sats','delinq_2yrs','total_acc','open_acc']]"
   ]
  },
  {
   "cell_type": "code",
   "execution_count": 34,
   "metadata": {},
   "outputs": [
    {
     "data": {
      "text/plain": [
       "<matplotlib.axes._subplots.AxesSubplot at 0x198b98826c8>"
      ]
     },
     "execution_count": 34,
     "metadata": {},
     "output_type": "execute_result"
    },
    {
     "data": {
      "image/png": "[encoded data removed]",
      "text/plain": [
       "<Figure size 432x288 with 2 Axes>"
      ]
     },
     "metadata": {
      "needs_background": "light"
     },
     "output_type": "display_data"
    }
   ],
   "source": [
    "sns.heatmap(pred1.corr())"
   ]
  },
  {
   "cell_type": "markdown",
   "metadata": {},
   "source": [
    "Considering the relationship of predictor features in pred1 to loanstatus, with the correlation function, this proves that the featues are highly correlating with the output variable(loanstatus)"
   ]
  },
  {
   "cell_type": "code",
   "execution_count": 35,
   "metadata": {},
   "outputs": [
    {
     "data": {
      "text/html": [
       "<div>\n",
       "<style scoped>\n",
       "    .dataframe tbody tr th:only-of-type {\n",
       "        vertical-align: middle;\n",
       "    }\n",
       "\n",
       "    .dataframe tbody tr th {\n",
       "        vertical-align: top;\n",
       "    }\n",
       "\n",
       "    .dataframe thead th {\n",
       "        text-align: right;\n",
       "    }\n",
       "</style>\n",
       "<table border=\"1\" class=\"dataframe\">\n",
       "  <thead>\n",
       "    <tr style=\"text-align: right;\">\n",
       "      <th></th>\n",
       "      <th>loan_amnt</th>\n",
       "      <th>funded_amnt_inv</th>\n",
       "      <th>funded_amnt</th>\n",
       "      <th>int_rate</th>\n",
       "      <th>annual_inc</th>\n",
       "      <th>dti</th>\n",
       "      <th>tax_liens</th>\n",
       "      <th>pub_rec_bankruptcies</th>\n",
       "      <th>home_ownership</th>\n",
       "      <th>num_sats</th>\n",
       "      <th>delinq_2yrs</th>\n",
       "      <th>total_acc</th>\n",
       "      <th>open_acc</th>\n",
       "    </tr>\n",
       "    <tr>\n",
       "      <th>grade</th>\n",
       "      <th></th>\n",
       "      <th></th>\n",
       "      <th></th>\n",
       "      <th></th>\n",
       "      <th></th>\n",
       "      <th></th>\n",
       "      <th></th>\n",
       "      <th></th>\n",
       "      <th></th>\n",
       "      <th></th>\n",
       "      <th></th>\n",
       "      <th></th>\n",
       "      <th></th>\n",
       "    </tr>\n",
       "  </thead>\n",
       "  <tbody>\n",
       "    <tr>\n",
       "      <th>1</th>\n",
       "      <td>20895.083433</td>\n",
       "      <td>20771.574027</td>\n",
       "      <td>20849.433850</td>\n",
       "      <td>27.612229</td>\n",
       "      <td>77172.462968</td>\n",
       "      <td>20.926814</td>\n",
       "      <td>0.069130</td>\n",
       "      <td>0.144219</td>\n",
       "      <td>1.812872</td>\n",
       "      <td>12.275093</td>\n",
       "      <td>0.362336</td>\n",
       "      <td>25.126341</td>\n",
       "      <td>12.233611</td>\n",
       "    </tr>\n",
       "    <tr>\n",
       "      <th>2</th>\n",
       "      <td>19099.111415</td>\n",
       "      <td>19034.958765</td>\n",
       "      <td>19069.600137</td>\n",
       "      <td>24.898407</td>\n",
       "      <td>72565.842085</td>\n",
       "      <td>20.929525</td>\n",
       "      <td>0.058442</td>\n",
       "      <td>0.156923</td>\n",
       "      <td>1.785373</td>\n",
       "      <td>11.897638</td>\n",
       "      <td>0.350649</td>\n",
       "      <td>24.901230</td>\n",
       "      <td>11.885509</td>\n",
       "    </tr>\n",
       "    <tr>\n",
       "      <th>3</th>\n",
       "      <td>17580.718374</td>\n",
       "      <td>17523.048974</td>\n",
       "      <td>17557.006297</td>\n",
       "      <td>21.066203</td>\n",
       "      <td>72322.063178</td>\n",
       "      <td>20.654615</td>\n",
       "      <td>0.059187</td>\n",
       "      <td>0.152296</td>\n",
       "      <td>1.748941</td>\n",
       "      <td>11.842616</td>\n",
       "      <td>0.351002</td>\n",
       "      <td>24.952719</td>\n",
       "      <td>11.818775</td>\n",
       "    </tr>\n",
       "    <tr>\n",
       "      <th>4</th>\n",
       "      <td>15259.752902</td>\n",
       "      <td>15232.294550</td>\n",
       "      <td>15256.081189</td>\n",
       "      <td>17.701764</td>\n",
       "      <td>69714.929393</td>\n",
       "      <td>20.054020</td>\n",
       "      <td>0.061882</td>\n",
       "      <td>0.156909</td>\n",
       "      <td>1.759801</td>\n",
       "      <td>11.545404</td>\n",
       "      <td>0.362251</td>\n",
       "      <td>24.297000</td>\n",
       "      <td>11.504573</td>\n",
       "    </tr>\n",
       "    <tr>\n",
       "      <th>5</th>\n",
       "      <td>14229.116686</td>\n",
       "      <td>14203.707786</td>\n",
       "      <td>14224.977970</td>\n",
       "      <td>14.019814</td>\n",
       "      <td>72615.073278</td>\n",
       "      <td>18.847570</td>\n",
       "      <td>0.058471</td>\n",
       "      <td>0.154428</td>\n",
       "      <td>1.744741</td>\n",
       "      <td>11.513600</td>\n",
       "      <td>0.345793</td>\n",
       "      <td>24.516060</td>\n",
       "      <td>11.502246</td>\n",
       "    </tr>\n",
       "    <tr>\n",
       "      <th>6</th>\n",
       "      <td>13249.828013</td>\n",
       "      <td>13214.699141</td>\n",
       "      <td>13240.503577</td>\n",
       "      <td>10.681101</td>\n",
       "      <td>76703.300313</td>\n",
       "      <td>17.343300</td>\n",
       "      <td>0.053666</td>\n",
       "      <td>0.139824</td>\n",
       "      <td>1.700826</td>\n",
       "      <td>11.409854</td>\n",
       "      <td>0.323720</td>\n",
       "      <td>24.858971</td>\n",
       "      <td>11.364584</td>\n",
       "    </tr>\n",
       "    <tr>\n",
       "      <th>7</th>\n",
       "      <td>13868.309778</td>\n",
       "      <td>13844.259545</td>\n",
       "      <td>13860.677711</td>\n",
       "      <td>7.138857</td>\n",
       "      <td>88732.476465</td>\n",
       "      <td>15.581247</td>\n",
       "      <td>0.039066</td>\n",
       "      <td>0.063845</td>\n",
       "      <td>1.637766</td>\n",
       "      <td>12.066680</td>\n",
       "      <td>0.186515</td>\n",
       "      <td>26.532298</td>\n",
       "      <td>11.943791</td>\n",
       "    </tr>\n",
       "  </tbody>\n",
       "</table>\n",
       "</div>"
      ],
      "text/plain": [
       "          loan_amnt  funded_amnt_inv   funded_amnt   int_rate    annual_inc  \\\n",
       "grade                                                                         \n",
       "1      20895.083433     20771.574027  20849.433850  27.612229  77172.462968   \n",
       "2      19099.111415     19034.958765  19069.600137  24.898407  72565.842085   \n",
       "3      17580.718374     17523.048974  17557.006297  21.066203  72322.063178   \n",
       "4      15259.752902     15232.294550  15256.081189  17.701764  69714.929393   \n",
       "5      14229.116686     14203.707786  14224.977970  14.019814  72615.073278   \n",
       "6      13249.828013     13214.699141  13240.503577  10.681101  76703.300313   \n",
       "7      13868.309778     13844.259545  13860.677711   7.138857  88732.476465   \n",
       "\n",
       "             dti  tax_liens  pub_rec_bankruptcies  home_ownership   num_sats  \\\n",
       "grade                                                                          \n",
       "1      20.926814   0.069130              0.144219        1.812872  12.275093   \n",
       "2      20.929525   0.058442              0.156923        1.785373  11.897638   \n",
       "3      20.654615   0.059187              0.152296        1.748941  11.842616   \n",
       "4      20.054020   0.061882              0.156909        1.759801  11.545404   \n",
       "5      18.847570   0.058471              0.154428        1.744741  11.513600   \n",
       "6      17.343300   0.053666              0.139824        1.700826  11.409854   \n",
       "7      15.581247   0.039066              0.063845        1.637766  12.066680   \n",
       "\n",
       "       delinq_2yrs  total_acc   open_acc  \n",
       "grade                                     \n",
       "1         0.362336  25.126341  12.233611  \n",
       "2         0.350649  24.901230  11.885509  \n",
       "3         0.351002  24.952719  11.818775  \n",
       "4         0.362251  24.297000  11.504573  \n",
       "5         0.345793  24.516060  11.502246  \n",
       "6         0.323720  24.858971  11.364584  \n",
       "7         0.186515  26.532298  11.943791  "
      ]
     },
     "execution_count": 35,
     "metadata": {},
     "output_type": "execute_result"
    }
   ],
   "source": [
    "pred1.groupby('grade').mean()"
   ]
  },
  {
   "cell_type": "code",
   "execution_count": 36,
   "metadata": {
    "scrolled": true
   },
   "outputs": [
    {
     "data": {
      "text/plain": [
       "4.022623233062745e-05"
      ]
     },
     "execution_count": 36,
     "metadata": {},
     "output_type": "execute_result"
    }
   ],
   "source": [
    "daf.tax_liens.isna().mean()"
   ]
  },
  {
   "cell_type": "markdown",
   "metadata": {},
   "source": [
    "# Modelling"
   ]
  },
  {
   "cell_type": "code",
   "execution_count": 37,
   "metadata": {},
   "outputs": [],
   "source": [
    "from sklearn.model_selection import train_test_split\n",
    "\n",
    "from sklearn import svm\n",
    "from sklearn.linear_model import LogisticRegression\n",
    "from sklearn.ensemble import RandomForestClassifier\n",
    "\n",
    "from sklearn import metrics\n",
    "from sklearn.metrics import confusion_matrix\n",
    "from sklearn.metrics import roc_curve\n",
    "from sklearn.metrics import roc_auc_score"
   ]
  },
  {
   "cell_type": "code",
   "execution_count": 38,
   "metadata": {},
   "outputs": [],
   "source": [
    "X=daf[['loan_amnt','funded_amnt','annual_inc','int_rate','total_pymnt','grade','delinq_2yrs','total_acc','open_acc']]\n",
    "y=daf['loan_status']"
   ]
  },
  {
   "cell_type": "code",
   "execution_count": 39,
   "metadata": {
    "scrolled": true
   },
   "outputs": [
    {
     "data": {
      "text/html": [
       "<div>\n",
       "<style scoped>\n",
       "    .dataframe tbody tr th:only-of-type {\n",
       "        vertical-align: middle;\n",
       "    }\n",
       "\n",
       "    .dataframe tbody tr th {\n",
       "        vertical-align: top;\n",
       "    }\n",
       "\n",
       "    .dataframe thead th {\n",
       "        text-align: right;\n",
       "    }\n",
       "</style>\n",
       "<table border=\"1\" class=\"dataframe\">\n",
       "  <thead>\n",
       "    <tr style=\"text-align: right;\">\n",
       "      <th></th>\n",
       "      <th>loan_amnt</th>\n",
       "      <th>funded_amnt</th>\n",
       "      <th>annual_inc</th>\n",
       "      <th>int_rate</th>\n",
       "      <th>total_pymnt</th>\n",
       "      <th>grade</th>\n",
       "      <th>delinq_2yrs</th>\n",
       "      <th>total_acc</th>\n",
       "      <th>open_acc</th>\n",
       "    </tr>\n",
       "  </thead>\n",
       "  <tbody>\n",
       "    <tr>\n",
       "      <th>39173</th>\n",
       "      <td>8950</td>\n",
       "      <td>8950</td>\n",
       "      <td>48000.0</td>\n",
       "      <td>17.57</td>\n",
       "      <td>11620.247389</td>\n",
       "      <td>4</td>\n",
       "      <td>1.0</td>\n",
       "      <td>28.0</td>\n",
       "      <td>9.0</td>\n",
       "    </tr>\n",
       "    <tr>\n",
       "      <th>107967</th>\n",
       "      <td>28000</td>\n",
       "      <td>28000</td>\n",
       "      <td>65676.0</td>\n",
       "      <td>17.86</td>\n",
       "      <td>14414.250000</td>\n",
       "      <td>4</td>\n",
       "      <td>0.0</td>\n",
       "      <td>29.0</td>\n",
       "      <td>24.0</td>\n",
       "    </tr>\n",
       "    <tr>\n",
       "      <th>64335</th>\n",
       "      <td>4000</td>\n",
       "      <td>4000</td>\n",
       "      <td>72000.0</td>\n",
       "      <td>17.47</td>\n",
       "      <td>4483.229182</td>\n",
       "      <td>4</td>\n",
       "      <td>0.0</td>\n",
       "      <td>56.0</td>\n",
       "      <td>22.0</td>\n",
       "    </tr>\n",
       "    <tr>\n",
       "      <th>70198</th>\n",
       "      <td>20400</td>\n",
       "      <td>20400</td>\n",
       "      <td>99000.0</td>\n",
       "      <td>14.33</td>\n",
       "      <td>11459.840000</td>\n",
       "      <td>5</td>\n",
       "      <td>0.0</td>\n",
       "      <td>22.0</td>\n",
       "      <td>10.0</td>\n",
       "    </tr>\n",
       "    <tr>\n",
       "      <th>91804</th>\n",
       "      <td>6000</td>\n",
       "      <td>6000</td>\n",
       "      <td>100000.0</td>\n",
       "      <td>7.14</td>\n",
       "      <td>6683.929932</td>\n",
       "      <td>7</td>\n",
       "      <td>0.0</td>\n",
       "      <td>30.0</td>\n",
       "      <td>13.0</td>\n",
       "    </tr>\n",
       "  </tbody>\n",
       "</table>\n",
       "</div>"
      ],
      "text/plain": [
       "        loan_amnt  funded_amnt  annual_inc  int_rate   total_pymnt  grade  \\\n",
       "39173        8950         8950     48000.0     17.57  11620.247389      4   \n",
       "107967      28000        28000     65676.0     17.86  14414.250000      4   \n",
       "64335        4000         4000     72000.0     17.47   4483.229182      4   \n",
       "70198       20400        20400     99000.0     14.33  11459.840000      5   \n",
       "91804        6000         6000    100000.0      7.14   6683.929932      7   \n",
       "\n",
       "        delinq_2yrs  total_acc  open_acc  \n",
       "39173           1.0       28.0       9.0  \n",
       "107967          0.0       29.0      24.0  \n",
       "64335           0.0       56.0      22.0  \n",
       "70198           0.0       22.0      10.0  \n",
       "91804           0.0       30.0      13.0  "
      ]
     },
     "execution_count": 39,
     "metadata": {},
     "output_type": "execute_result"
    }
   ],
   "source": [
    "X.sample(5)"
   ]
  },
  {
   "cell_type": "code",
   "execution_count": 40,
   "metadata": {},
   "outputs": [
    {
     "data": {
      "text/plain": [
       "Index(['loan_amnt', 'funded_amnt', 'annual_inc', 'int_rate', 'total_pymnt',\n",
       "       'grade', 'delinq_2yrs', 'total_acc', 'open_acc'],\n",
       "      dtype='object')"
      ]
     },
     "execution_count": 40,
     "metadata": {},
     "output_type": "execute_result"
    }
   ],
   "source": [
    "X.columns"
   ]
  },
  {
   "cell_type": "code",
   "execution_count": 41,
   "metadata": {},
   "outputs": [],
   "source": [
    "from sklearn.preprocessing import MinMaxScaler, StandardScaler\n",
    "X_train, X_test, y_train, y_test = train_test_split(X, y, test_size=0.25, random_state=123,stratify=daf['loan_status'])"
   ]
  },
  {
   "cell_type": "code",
   "execution_count": 42,
   "metadata": {},
   "outputs": [
    {
     "data": {
      "text/html": [
       "<div>\n",
       "<style scoped>\n",
       "    .dataframe tbody tr th:only-of-type {\n",
       "        vertical-align: middle;\n",
       "    }\n",
       "\n",
       "    .dataframe tbody tr th {\n",
       "        vertical-align: top;\n",
       "    }\n",
       "\n",
       "    .dataframe thead th {\n",
       "        text-align: right;\n",
       "    }\n",
       "</style>\n",
       "<table border=\"1\" class=\"dataframe\">\n",
       "  <thead>\n",
       "    <tr style=\"text-align: right;\">\n",
       "      <th></th>\n",
       "      <th>loan_amnt</th>\n",
       "      <th>funded_amnt</th>\n",
       "      <th>annual_inc</th>\n",
       "      <th>int_rate</th>\n",
       "      <th>total_pymnt</th>\n",
       "      <th>grade</th>\n",
       "      <th>delinq_2yrs</th>\n",
       "      <th>total_acc</th>\n",
       "      <th>open_acc</th>\n",
       "    </tr>\n",
       "  </thead>\n",
       "  <tbody>\n",
       "    <tr>\n",
       "      <th>count</th>\n",
       "      <td>93222.000000</td>\n",
       "      <td>93222.00000</td>\n",
       "      <td>9.322200e+04</td>\n",
       "      <td>93222.000000</td>\n",
       "      <td>93222.000000</td>\n",
       "      <td>93222.000000</td>\n",
       "      <td>93222.000000</td>\n",
       "      <td>93222.000000</td>\n",
       "      <td>93222.000000</td>\n",
       "    </tr>\n",
       "    <tr>\n",
       "      <th>mean</th>\n",
       "      <td>14432.816824</td>\n",
       "      <td>14424.27324</td>\n",
       "      <td>7.627058e+04</td>\n",
       "      <td>13.236695</td>\n",
       "      <td>14795.521646</td>\n",
       "      <td>5.252987</td>\n",
       "      <td>0.314733</td>\n",
       "      <td>24.970672</td>\n",
       "      <td>11.571753</td>\n",
       "    </tr>\n",
       "    <tr>\n",
       "      <th>std</th>\n",
       "      <td>8701.558340</td>\n",
       "      <td>8696.60296</td>\n",
       "      <td>6.746671e+04</td>\n",
       "      <td>4.736953</td>\n",
       "      <td>10308.853790</td>\n",
       "      <td>1.292660</td>\n",
       "      <td>0.872861</td>\n",
       "      <td>11.933423</td>\n",
       "      <td>5.457383</td>\n",
       "    </tr>\n",
       "    <tr>\n",
       "      <th>min</th>\n",
       "      <td>500.000000</td>\n",
       "      <td>500.00000</td>\n",
       "      <td>0.000000e+00</td>\n",
       "      <td>5.310000</td>\n",
       "      <td>0.000000</td>\n",
       "      <td>1.000000</td>\n",
       "      <td>0.000000</td>\n",
       "      <td>2.000000</td>\n",
       "      <td>0.000000</td>\n",
       "    </tr>\n",
       "    <tr>\n",
       "      <th>25%</th>\n",
       "      <td>8000.000000</td>\n",
       "      <td>8000.00000</td>\n",
       "      <td>4.600000e+04</td>\n",
       "      <td>9.750000</td>\n",
       "      <td>6827.363858</td>\n",
       "      <td>5.000000</td>\n",
       "      <td>0.000000</td>\n",
       "      <td>16.000000</td>\n",
       "      <td>8.000000</td>\n",
       "    </tr>\n",
       "    <tr>\n",
       "      <th>50%</th>\n",
       "      <td>12000.000000</td>\n",
       "      <td>12000.00000</td>\n",
       "      <td>6.500000e+04</td>\n",
       "      <td>12.740000</td>\n",
       "      <td>12110.055627</td>\n",
       "      <td>5.000000</td>\n",
       "      <td>0.000000</td>\n",
       "      <td>23.000000</td>\n",
       "      <td>11.000000</td>\n",
       "    </tr>\n",
       "    <tr>\n",
       "      <th>75%</th>\n",
       "      <td>20000.000000</td>\n",
       "      <td>20000.00000</td>\n",
       "      <td>9.000000e+04</td>\n",
       "      <td>15.990000</td>\n",
       "      <td>20579.160196</td>\n",
       "      <td>6.000000</td>\n",
       "      <td>0.000000</td>\n",
       "      <td>32.000000</td>\n",
       "      <td>14.000000</td>\n",
       "    </tr>\n",
       "    <tr>\n",
       "      <th>max</th>\n",
       "      <td>40000.000000</td>\n",
       "      <td>40000.00000</td>\n",
       "      <td>9.550000e+06</td>\n",
       "      <td>30.990000</td>\n",
       "      <td>62884.797382</td>\n",
       "      <td>7.000000</td>\n",
       "      <td>25.000000</td>\n",
       "      <td>127.000000</td>\n",
       "      <td>74.000000</td>\n",
       "    </tr>\n",
       "  </tbody>\n",
       "</table>\n",
       "</div>"
      ],
      "text/plain": [
       "          loan_amnt  funded_amnt    annual_inc      int_rate   total_pymnt  \\\n",
       "count  93222.000000  93222.00000  9.322200e+04  93222.000000  93222.000000   \n",
       "mean   14432.816824  14424.27324  7.627058e+04     13.236695  14795.521646   \n",
       "std     8701.558340   8696.60296  6.746671e+04      4.736953  10308.853790   \n",
       "min      500.000000    500.00000  0.000000e+00      5.310000      0.000000   \n",
       "25%     8000.000000   8000.00000  4.600000e+04      9.750000   6827.363858   \n",
       "50%    12000.000000  12000.00000  6.500000e+04     12.740000  12110.055627   \n",
       "75%    20000.000000  20000.00000  9.000000e+04     15.990000  20579.160196   \n",
       "max    40000.000000  40000.00000  9.550000e+06     30.990000  62884.797382   \n",
       "\n",
       "              grade   delinq_2yrs     total_acc      open_acc  \n",
       "count  93222.000000  93222.000000  93222.000000  93222.000000  \n",
       "mean       5.252987      0.314733     24.970672     11.571753  \n",
       "std        1.292660      0.872861     11.933423      5.457383  \n",
       "min        1.000000      0.000000      2.000000      0.000000  \n",
       "25%        5.000000      0.000000     16.000000      8.000000  \n",
       "50%        5.000000      0.000000     23.000000     11.000000  \n",
       "75%        6.000000      0.000000     32.000000     14.000000  \n",
       "max        7.000000     25.000000    127.000000     74.000000  "
      ]
     },
     "execution_count": 42,
     "metadata": {},
     "output_type": "execute_result"
    }
   ],
   "source": [
    "X_train.describe()"
   ]
  },
  {
   "cell_type": "code",
   "execution_count": 43,
   "metadata": {},
   "outputs": [],
   "source": [
    "columns=X_train.columns"
   ]
  },
  {
   "cell_type": "markdown",
   "metadata": {},
   "source": [
    "# MinMaxScaler"
   ]
  },
  {
   "cell_type": "code",
   "execution_count": 44,
   "metadata": {},
   "outputs": [
    {
     "data": {
      "text/html": [
       "<div>\n",
       "<style scoped>\n",
       "    .dataframe tbody tr th:only-of-type {\n",
       "        vertical-align: middle;\n",
       "    }\n",
       "\n",
       "    .dataframe tbody tr th {\n",
       "        vertical-align: top;\n",
       "    }\n",
       "\n",
       "    .dataframe thead th {\n",
       "        text-align: right;\n",
       "    }\n",
       "</style>\n",
       "<table border=\"1\" class=\"dataframe\">\n",
       "  <thead>\n",
       "    <tr style=\"text-align: right;\">\n",
       "      <th></th>\n",
       "      <th>loan_amnt</th>\n",
       "      <th>funded_amnt</th>\n",
       "      <th>annual_inc</th>\n",
       "      <th>int_rate</th>\n",
       "      <th>total_pymnt</th>\n",
       "      <th>grade</th>\n",
       "      <th>delinq_2yrs</th>\n",
       "      <th>total_acc</th>\n",
       "      <th>open_acc</th>\n",
       "    </tr>\n",
       "  </thead>\n",
       "  <tbody>\n",
       "    <tr>\n",
       "      <th>count</th>\n",
       "      <td>93222.000000</td>\n",
       "      <td>93222.000000</td>\n",
       "      <td>93222.000000</td>\n",
       "      <td>93222.000000</td>\n",
       "      <td>93222.000000</td>\n",
       "      <td>93222.000000</td>\n",
       "      <td>93222.000000</td>\n",
       "      <td>93222.000000</td>\n",
       "      <td>93222.000000</td>\n",
       "    </tr>\n",
       "    <tr>\n",
       "      <th>mean</th>\n",
       "      <td>0.352730</td>\n",
       "      <td>0.352513</td>\n",
       "      <td>0.007986</td>\n",
       "      <td>0.308672</td>\n",
       "      <td>0.235280</td>\n",
       "      <td>0.708831</td>\n",
       "      <td>0.012589</td>\n",
       "      <td>0.183765</td>\n",
       "      <td>0.156375</td>\n",
       "    </tr>\n",
       "    <tr>\n",
       "      <th>std</th>\n",
       "      <td>0.220293</td>\n",
       "      <td>0.220167</td>\n",
       "      <td>0.007065</td>\n",
       "      <td>0.184461</td>\n",
       "      <td>0.163932</td>\n",
       "      <td>0.215443</td>\n",
       "      <td>0.034914</td>\n",
       "      <td>0.095467</td>\n",
       "      <td>0.073748</td>\n",
       "    </tr>\n",
       "    <tr>\n",
       "      <th>min</th>\n",
       "      <td>0.000000</td>\n",
       "      <td>0.000000</td>\n",
       "      <td>0.000000</td>\n",
       "      <td>0.000000</td>\n",
       "      <td>0.000000</td>\n",
       "      <td>0.000000</td>\n",
       "      <td>0.000000</td>\n",
       "      <td>0.000000</td>\n",
       "      <td>0.000000</td>\n",
       "    </tr>\n",
       "    <tr>\n",
       "      <th>25%</th>\n",
       "      <td>0.189873</td>\n",
       "      <td>0.189873</td>\n",
       "      <td>0.004817</td>\n",
       "      <td>0.172897</td>\n",
       "      <td>0.108569</td>\n",
       "      <td>0.666667</td>\n",
       "      <td>0.000000</td>\n",
       "      <td>0.112000</td>\n",
       "      <td>0.108108</td>\n",
       "    </tr>\n",
       "    <tr>\n",
       "      <th>50%</th>\n",
       "      <td>0.291139</td>\n",
       "      <td>0.291139</td>\n",
       "      <td>0.006806</td>\n",
       "      <td>0.289330</td>\n",
       "      <td>0.192575</td>\n",
       "      <td>0.666667</td>\n",
       "      <td>0.000000</td>\n",
       "      <td>0.168000</td>\n",
       "      <td>0.148649</td>\n",
       "    </tr>\n",
       "    <tr>\n",
       "      <th>75%</th>\n",
       "      <td>0.493671</td>\n",
       "      <td>0.493671</td>\n",
       "      <td>0.009424</td>\n",
       "      <td>0.415888</td>\n",
       "      <td>0.327252</td>\n",
       "      <td>0.833333</td>\n",
       "      <td>0.000000</td>\n",
       "      <td>0.240000</td>\n",
       "      <td>0.189189</td>\n",
       "    </tr>\n",
       "    <tr>\n",
       "      <th>max</th>\n",
       "      <td>1.000000</td>\n",
       "      <td>1.000000</td>\n",
       "      <td>1.000000</td>\n",
       "      <td>1.000000</td>\n",
       "      <td>1.000000</td>\n",
       "      <td>1.000000</td>\n",
       "      <td>1.000000</td>\n",
       "      <td>1.000000</td>\n",
       "      <td>1.000000</td>\n",
       "    </tr>\n",
       "  </tbody>\n",
       "</table>\n",
       "</div>"
      ],
      "text/plain": [
       "          loan_amnt   funded_amnt    annual_inc      int_rate   total_pymnt  \\\n",
       "count  93222.000000  93222.000000  93222.000000  93222.000000  93222.000000   \n",
       "mean       0.352730      0.352513      0.007986      0.308672      0.235280   \n",
       "std        0.220293      0.220167      0.007065      0.184461      0.163932   \n",
       "min        0.000000      0.000000      0.000000      0.000000      0.000000   \n",
       "25%        0.189873      0.189873      0.004817      0.172897      0.108569   \n",
       "50%        0.291139      0.291139      0.006806      0.289330      0.192575   \n",
       "75%        0.493671      0.493671      0.009424      0.415888      0.327252   \n",
       "max        1.000000      1.000000      1.000000      1.000000      1.000000   \n",
       "\n",
       "              grade   delinq_2yrs     total_acc      open_acc  \n",
       "count  93222.000000  93222.000000  93222.000000  93222.000000  \n",
       "mean       0.708831      0.012589      0.183765      0.156375  \n",
       "std        0.215443      0.034914      0.095467      0.073748  \n",
       "min        0.000000      0.000000      0.000000      0.000000  \n",
       "25%        0.666667      0.000000      0.112000      0.108108  \n",
       "50%        0.666667      0.000000      0.168000      0.148649  \n",
       "75%        0.833333      0.000000      0.240000      0.189189  \n",
       "max        1.000000      1.000000      1.000000      1.000000  "
      ]
     },
     "execution_count": 44,
     "metadata": {},
     "output_type": "execute_result"
    }
   ],
   "source": [
    "mm_scaler_train= MinMaxScaler().fit_transform(X_train)\n",
    "mm_scaler_test= MinMaxScaler().fit_transform(X_test)\n",
    "mm_scaler_train = pd.DataFrame(mm_scaler_train, columns=columns)\n",
    "mm_scaler_train.describe()"
   ]
  },
  {
   "cell_type": "markdown",
   "metadata": {},
   "source": [
    "# StandardScaler"
   ]
  },
  {
   "cell_type": "code",
   "execution_count": 45,
   "metadata": {},
   "outputs": [
    {
     "data": {
      "text/html": [
       "<div>\n",
       "<style scoped>\n",
       "    .dataframe tbody tr th:only-of-type {\n",
       "        vertical-align: middle;\n",
       "    }\n",
       "\n",
       "    .dataframe tbody tr th {\n",
       "        vertical-align: top;\n",
       "    }\n",
       "\n",
       "    .dataframe thead th {\n",
       "        text-align: right;\n",
       "    }\n",
       "</style>\n",
       "<table border=\"1\" class=\"dataframe\">\n",
       "  <thead>\n",
       "    <tr style=\"text-align: right;\">\n",
       "      <th></th>\n",
       "      <th>loan_amnt</th>\n",
       "      <th>funded_amnt</th>\n",
       "      <th>annual_inc</th>\n",
       "      <th>int_rate</th>\n",
       "      <th>total_pymnt</th>\n",
       "      <th>grade</th>\n",
       "      <th>delinq_2yrs</th>\n",
       "      <th>total_acc</th>\n",
       "      <th>open_acc</th>\n",
       "    </tr>\n",
       "  </thead>\n",
       "  <tbody>\n",
       "    <tr>\n",
       "      <th>count</th>\n",
       "      <td>9.322200e+04</td>\n",
       "      <td>9.322200e+04</td>\n",
       "      <td>9.322200e+04</td>\n",
       "      <td>9.322200e+04</td>\n",
       "      <td>9.322200e+04</td>\n",
       "      <td>9.322200e+04</td>\n",
       "      <td>9.322200e+04</td>\n",
       "      <td>9.322200e+04</td>\n",
       "      <td>9.322200e+04</td>\n",
       "    </tr>\n",
       "    <tr>\n",
       "      <th>mean</th>\n",
       "      <td>2.466150e-16</td>\n",
       "      <td>-2.310374e-17</td>\n",
       "      <td>-2.978459e-16</td>\n",
       "      <td>-2.366646e-17</td>\n",
       "      <td>3.773031e-16</td>\n",
       "      <td>-5.278996e-16</td>\n",
       "      <td>1.438202e-15</td>\n",
       "      <td>-4.338614e-18</td>\n",
       "      <td>-1.083733e-15</td>\n",
       "    </tr>\n",
       "    <tr>\n",
       "      <th>std</th>\n",
       "      <td>1.000005e+00</td>\n",
       "      <td>1.000005e+00</td>\n",
       "      <td>1.000005e+00</td>\n",
       "      <td>1.000005e+00</td>\n",
       "      <td>1.000005e+00</td>\n",
       "      <td>1.000005e+00</td>\n",
       "      <td>1.000005e+00</td>\n",
       "      <td>1.000005e+00</td>\n",
       "      <td>1.000005e+00</td>\n",
       "    </tr>\n",
       "    <tr>\n",
       "      <th>min</th>\n",
       "      <td>-1.601195e+00</td>\n",
       "      <td>-1.601125e+00</td>\n",
       "      <td>-1.130498e+00</td>\n",
       "      <td>-1.673383e+00</td>\n",
       "      <td>-1.435232e+00</td>\n",
       "      <td>-3.290122e+00</td>\n",
       "      <td>-3.605779e-01</td>\n",
       "      <td>-1.924913e+00</td>\n",
       "      <td>-2.120397e+00</td>\n",
       "    </tr>\n",
       "    <tr>\n",
       "      <th>25%</th>\n",
       "      <td>-7.392758e-01</td>\n",
       "      <td>-7.387146e-01</td>\n",
       "      <td>-4.486767e-01</td>\n",
       "      <td>-7.360668e-01</td>\n",
       "      <td>-7.729473e-01</td>\n",
       "      <td>-1.957118e-01</td>\n",
       "      <td>-3.605779e-01</td>\n",
       "      <td>-7.517307e-01</td>\n",
       "      <td>-6.544845e-01</td>\n",
       "    </tr>\n",
       "    <tr>\n",
       "      <th>50%</th>\n",
       "      <td>-2.795855e-01</td>\n",
       "      <td>-2.787624e-01</td>\n",
       "      <td>-1.670549e-01</td>\n",
       "      <td>-1.048560e-01</td>\n",
       "      <td>-2.605023e-01</td>\n",
       "      <td>-1.957118e-01</td>\n",
       "      <td>-3.605779e-01</td>\n",
       "      <td>-1.651398e-01</td>\n",
       "      <td>-1.047675e-01</td>\n",
       "    </tr>\n",
       "    <tr>\n",
       "      <th>75%</th>\n",
       "      <td>6.397949e-01</td>\n",
       "      <td>6.411419e-01</td>\n",
       "      <td>2.035002e-01</td>\n",
       "      <td>5.812428e-01</td>\n",
       "      <td>5.610391e-01</td>\n",
       "      <td>5.778908e-01</td>\n",
       "      <td>-3.605779e-01</td>\n",
       "      <td>5.890486e-01</td>\n",
       "      <td>4.449495e-01</td>\n",
       "    </tr>\n",
       "    <tr>\n",
       "      <th>max</th>\n",
       "      <td>2.938246e+00</td>\n",
       "      <td>2.940903e+00</td>\n",
       "      <td>1.404216e+02</td>\n",
       "      <td>3.747852e+00</td>\n",
       "      <td>4.664877e+00</td>\n",
       "      <td>1.351493e+00</td>\n",
       "      <td>2.828103e+01</td>\n",
       "      <td>8.549925e+00</td>\n",
       "      <td>1.143929e+01</td>\n",
       "    </tr>\n",
       "  </tbody>\n",
       "</table>\n",
       "</div>"
      ],
      "text/plain": [
       "          loan_amnt   funded_amnt    annual_inc      int_rate   total_pymnt  \\\n",
       "count  9.322200e+04  9.322200e+04  9.322200e+04  9.322200e+04  9.322200e+04   \n",
       "mean   2.466150e-16 -2.310374e-17 -2.978459e-16 -2.366646e-17  3.773031e-16   \n",
       "std    1.000005e+00  1.000005e+00  1.000005e+00  1.000005e+00  1.000005e+00   \n",
       "min   -1.601195e+00 -1.601125e+00 -1.130498e+00 -1.673383e+00 -1.435232e+00   \n",
       "25%   -7.392758e-01 -7.387146e-01 -4.486767e-01 -7.360668e-01 -7.729473e-01   \n",
       "50%   -2.795855e-01 -2.787624e-01 -1.670549e-01 -1.048560e-01 -2.605023e-01   \n",
       "75%    6.397949e-01  6.411419e-01  2.035002e-01  5.812428e-01  5.610391e-01   \n",
       "max    2.938246e+00  2.940903e+00  1.404216e+02  3.747852e+00  4.664877e+00   \n",
       "\n",
       "              grade   delinq_2yrs     total_acc      open_acc  \n",
       "count  9.322200e+04  9.322200e+04  9.322200e+04  9.322200e+04  \n",
       "mean  -5.278996e-16  1.438202e-15 -4.338614e-18 -1.083733e-15  \n",
       "std    1.000005e+00  1.000005e+00  1.000005e+00  1.000005e+00  \n",
       "min   -3.290122e+00 -3.605779e-01 -1.924913e+00 -2.120397e+00  \n",
       "25%   -1.957118e-01 -3.605779e-01 -7.517307e-01 -6.544845e-01  \n",
       "50%   -1.957118e-01 -3.605779e-01 -1.651398e-01 -1.047675e-01  \n",
       "75%    5.778908e-01 -3.605779e-01  5.890486e-01  4.449495e-01  \n",
       "max    1.351493e+00  2.828103e+01  8.549925e+00  1.143929e+01  "
      ]
     },
     "execution_count": 45,
     "metadata": {},
     "output_type": "execute_result"
    }
   ],
   "source": [
    "ss_scaler_train= StandardScaler().fit_transform(X_train)\n",
    "ss_scaler_test= StandardScaler().fit_transform(X_test)\n",
    "ss_scaler_train = pd.DataFrame(ss_scaler_train, columns=columns)\n",
    "ss_scaler_train.describe()"
   ]
  },
  {
   "cell_type": "code",
   "execution_count": 46,
   "metadata": {},
   "outputs": [],
   "source": [
    "X=X.dropna()"
   ]
  },
  {
   "cell_type": "code",
   "execution_count": 47,
   "metadata": {
    "scrolled": true
   },
   "outputs": [
    {
     "data": {
      "text/plain": [
       "loan_amnt      0.0\n",
       "funded_amnt    0.0\n",
       "annual_inc     0.0\n",
       "int_rate       0.0\n",
       "total_pymnt    0.0\n",
       "grade          0.0\n",
       "delinq_2yrs    0.0\n",
       "total_acc      0.0\n",
       "open_acc       0.0\n",
       "dtype: float64"
      ]
     },
     "execution_count": 47,
     "metadata": {},
     "output_type": "execute_result"
    }
   ],
   "source": [
    "X.isna().mean()"
   ]
  },
  {
   "cell_type": "code",
   "execution_count": 48,
   "metadata": {},
   "outputs": [],
   "source": [
    "#X.shape"
   ]
  },
  {
   "cell_type": "code",
   "execution_count": 49,
   "metadata": {
    "scrolled": true
   },
   "outputs": [],
   "source": [
    "#X.dtypes"
   ]
  },
  {
   "cell_type": "code",
   "execution_count": 50,
   "metadata": {},
   "outputs": [
    {
     "data": {
      "text/html": [
       "<div>\n",
       "<style scoped>\n",
       "    .dataframe tbody tr th:only-of-type {\n",
       "        vertical-align: middle;\n",
       "    }\n",
       "\n",
       "    .dataframe tbody tr th {\n",
       "        vertical-align: top;\n",
       "    }\n",
       "\n",
       "    .dataframe thead th {\n",
       "        text-align: right;\n",
       "    }\n",
       "</style>\n",
       "<table border=\"1\" class=\"dataframe\">\n",
       "  <thead>\n",
       "    <tr style=\"text-align: right;\">\n",
       "      <th></th>\n",
       "      <th>loan_amnt</th>\n",
       "      <th>funded_amnt</th>\n",
       "      <th>annual_inc</th>\n",
       "      <th>int_rate</th>\n",
       "      <th>total_pymnt</th>\n",
       "      <th>grade</th>\n",
       "      <th>delinq_2yrs</th>\n",
       "      <th>total_acc</th>\n",
       "      <th>open_acc</th>\n",
       "    </tr>\n",
       "  </thead>\n",
       "  <tbody>\n",
       "    <tr>\n",
       "      <th>0</th>\n",
       "      <td>22000</td>\n",
       "      <td>22000</td>\n",
       "      <td>73000.0</td>\n",
       "      <td>9.17</td>\n",
       "      <td>25251.05</td>\n",
       "      <td>6</td>\n",
       "      <td>0.0</td>\n",
       "      <td>22.0</td>\n",
       "      <td>7.0</td>\n",
       "    </tr>\n",
       "    <tr>\n",
       "      <th>1</th>\n",
       "      <td>8000</td>\n",
       "      <td>8000</td>\n",
       "      <td>89000.0</td>\n",
       "      <td>5.32</td>\n",
       "      <td>8602.71</td>\n",
       "      <td>7</td>\n",
       "      <td>0.0</td>\n",
       "      <td>16.0</td>\n",
       "      <td>8.0</td>\n",
       "    </tr>\n",
       "    <tr>\n",
       "      <th>2</th>\n",
       "      <td>6000</td>\n",
       "      <td>6000</td>\n",
       "      <td>65000.0</td>\n",
       "      <td>9.75</td>\n",
       "      <td>6518.16</td>\n",
       "      <td>6</td>\n",
       "      <td>0.0</td>\n",
       "      <td>27.0</td>\n",
       "      <td>17.0</td>\n",
       "    </tr>\n",
       "    <tr>\n",
       "      <th>3</th>\n",
       "      <td>5300</td>\n",
       "      <td>5300</td>\n",
       "      <td>53486.0</td>\n",
       "      <td>12.39</td>\n",
       "      <td>6369.20</td>\n",
       "      <td>5</td>\n",
       "      <td>0.0</td>\n",
       "      <td>35.0</td>\n",
       "      <td>18.0</td>\n",
       "    </tr>\n",
       "    <tr>\n",
       "      <th>4</th>\n",
       "      <td>8000</td>\n",
       "      <td>8000</td>\n",
       "      <td>72550.0</td>\n",
       "      <td>12.49</td>\n",
       "      <td>9633.19</td>\n",
       "      <td>6</td>\n",
       "      <td>0.0</td>\n",
       "      <td>25.0</td>\n",
       "      <td>7.0</td>\n",
       "    </tr>\n",
       "    <tr>\n",
       "      <th>...</th>\n",
       "      <td>...</td>\n",
       "      <td>...</td>\n",
       "      <td>...</td>\n",
       "      <td>...</td>\n",
       "      <td>...</td>\n",
       "      <td>...</td>\n",
       "      <td>...</td>\n",
       "      <td>...</td>\n",
       "      <td>...</td>\n",
       "    </tr>\n",
       "    <tr>\n",
       "      <th>124292</th>\n",
       "      <td>12100</td>\n",
       "      <td>12100</td>\n",
       "      <td>55000.0</td>\n",
       "      <td>18.84</td>\n",
       "      <td>16663.55</td>\n",
       "      <td>3</td>\n",
       "      <td>0.0</td>\n",
       "      <td>24.0</td>\n",
       "      <td>12.0</td>\n",
       "    </tr>\n",
       "    <tr>\n",
       "      <th>124293</th>\n",
       "      <td>32500</td>\n",
       "      <td>32500</td>\n",
       "      <td>65000.0</td>\n",
       "      <td>7.39</td>\n",
       "      <td>36162.33</td>\n",
       "      <td>7</td>\n",
       "      <td>1.0</td>\n",
       "      <td>21.0</td>\n",
       "      <td>15.0</td>\n",
       "    </tr>\n",
       "    <tr>\n",
       "      <th>124294</th>\n",
       "      <td>8000</td>\n",
       "      <td>8000</td>\n",
       "      <td>46000.0</td>\n",
       "      <td>14.33</td>\n",
       "      <td>9889.34</td>\n",
       "      <td>5</td>\n",
       "      <td>0.0</td>\n",
       "      <td>13.0</td>\n",
       "      <td>11.0</td>\n",
       "    </tr>\n",
       "    <tr>\n",
       "      <th>124295</th>\n",
       "      <td>7000</td>\n",
       "      <td>7000</td>\n",
       "      <td>150000.0</td>\n",
       "      <td>6.99</td>\n",
       "      <td>7594.54</td>\n",
       "      <td>7</td>\n",
       "      <td>0.0</td>\n",
       "      <td>35.0</td>\n",
       "      <td>15.0</td>\n",
       "    </tr>\n",
       "    <tr>\n",
       "      <th>124296</th>\n",
       "      <td>1200</td>\n",
       "      <td>1200</td>\n",
       "      <td>85000.0</td>\n",
       "      <td>8.90</td>\n",
       "      <td>1371.71</td>\n",
       "      <td>7</td>\n",
       "      <td>0.0</td>\n",
       "      <td>15.0</td>\n",
       "      <td>9.0</td>\n",
       "    </tr>\n",
       "  </tbody>\n",
       "</table>\n",
       "<p>124297 rows × 9 columns</p>\n",
       "</div>"
      ],
      "text/plain": [
       "        loan_amnt  funded_amnt  annual_inc  int_rate  total_pymnt  grade  \\\n",
       "0           22000        22000     73000.0      9.17     25251.05      6   \n",
       "1            8000         8000     89000.0      5.32      8602.71      7   \n",
       "2            6000         6000     65000.0      9.75      6518.16      6   \n",
       "3            5300         5300     53486.0     12.39      6369.20      5   \n",
       "4            8000         8000     72550.0     12.49      9633.19      6   \n",
       "...           ...          ...         ...       ...          ...    ...   \n",
       "124292      12100        12100     55000.0     18.84     16663.55      3   \n",
       "124293      32500        32500     65000.0      7.39     36162.33      7   \n",
       "124294       8000         8000     46000.0     14.33      9889.34      5   \n",
       "124295       7000         7000    150000.0      6.99      7594.54      7   \n",
       "124296       1200         1200     85000.0      8.90      1371.71      7   \n",
       "\n",
       "        delinq_2yrs  total_acc  open_acc  \n",
       "0               0.0       22.0       7.0  \n",
       "1               0.0       16.0       8.0  \n",
       "2               0.0       27.0      17.0  \n",
       "3               0.0       35.0      18.0  \n",
       "4               0.0       25.0       7.0  \n",
       "...             ...        ...       ...  \n",
       "124292          0.0       24.0      12.0  \n",
       "124293          1.0       21.0      15.0  \n",
       "124294          0.0       13.0      11.0  \n",
       "124295          0.0       35.0      15.0  \n",
       "124296          0.0       15.0       9.0  \n",
       "\n",
       "[124297 rows x 9 columns]"
      ]
     },
     "execution_count": 50,
     "metadata": {},
     "output_type": "execute_result"
    }
   ],
   "source": [
    "np.round(X, decimals=2)"
   ]
  },
  {
   "cell_type": "markdown",
   "metadata": {},
   "source": [
    "# logisticRegression"
   ]
  },
  {
   "cell_type": "code",
   "execution_count": 51,
   "metadata": {},
   "outputs": [
    {
     "name": "stderr",
     "output_type": "stream",
     "text": [
      "C:\\Users\\hzhdzt\\Anaconda3\\lib\\site-packages\\sklearn\\linear_model\\logistic.py:432: FutureWarning: Default solver will be changed to 'lbfgs' in 0.22. Specify a solver to silence this warning.\n",
      "  FutureWarning)\n",
      "C:\\Users\\hzhdzt\\Anaconda3\\lib\\site-packages\\sklearn\\linear_model\\logistic.py:432: FutureWarning: Default solver will be changed to 'lbfgs' in 0.22. Specify a solver to silence this warning.\n",
      "  FutureWarning)\n",
      "C:\\Users\\hzhdzt\\Anaconda3\\lib\\site-packages\\sklearn\\linear_model\\logistic.py:432: FutureWarning: Default solver will be changed to 'lbfgs' in 0.22. Specify a solver to silence this warning.\n",
      "  FutureWarning)\n",
      "C:\\Users\\hzhdzt\\Anaconda3\\lib\\site-packages\\sklearn\\linear_model\\logistic.py:432: FutureWarning: Default solver will be changed to 'lbfgs' in 0.22. Specify a solver to silence this warning.\n",
      "  FutureWarning)\n"
     ]
    }
   ],
   "source": [
    "log_reg=LogisticRegression(C=100000).fit(X_train,y_train)\n",
    "log_reg=LogisticRegression(C=100000).fit(mm_scaler_train,y_train)\n",
    "log_reg=LogisticRegression(C=100000).fit(X_test,y_test)\n",
    "log_reg=LogisticRegression(C=100000).fit(mm_scaler_test,y_test)"
   ]
  },
  {
   "cell_type": "code",
   "execution_count": 52,
   "metadata": {},
   "outputs": [],
   "source": [
    "pred_train_logistic = log_reg.predict(X_train)\n",
    "pred_test_logistic = log_reg.predict(X_test)\n",
    "pred_sc_train_logistic = log_reg.predict(mm_scaler_train)\n",
    "pred_sc_test_logistic = log_reg.predict(mm_scaler_test)\n",
    "pred_ss_train_logistic =log_reg.predict(ss_scaler_train)\n",
    "pred_ss_test_logistic =log_reg.predict(ss_scaler_test)"
   ]
  },
  {
   "cell_type": "code",
   "execution_count": 53,
   "metadata": {},
   "outputs": [
    {
     "data": {
      "text/plain": [
       "0.7992748492845037"
      ]
     },
     "execution_count": 53,
     "metadata": {},
     "output_type": "execute_result"
    }
   ],
   "source": [
    "metrics.accuracy_score(pred_train_logistic, y_train)"
   ]
  },
  {
   "cell_type": "code",
   "execution_count": 103,
   "metadata": {
    "scrolled": true
   },
   "outputs": [
    {
     "data": {
      "text/plain": [
       "0.7993885760257442"
      ]
     },
     "execution_count": 103,
     "metadata": {},
     "output_type": "execute_result"
    }
   ],
   "source": [
    "logreg=metrics.accuracy_score(pred_test_logistic, y_test)\n",
    "logreg"
   ]
  },
  {
   "cell_type": "code",
   "execution_count": 55,
   "metadata": {},
   "outputs": [
    {
     "data": {
      "text/plain": [
       "0.6073459054729571"
      ]
     },
     "execution_count": 55,
     "metadata": {},
     "output_type": "execute_result"
    }
   ],
   "source": [
    "metrics.accuracy_score(pred_ss_train_logistic, y_train)"
   ]
  },
  {
   "cell_type": "code",
   "execution_count": 56,
   "metadata": {},
   "outputs": [
    {
     "data": {
      "text/plain": [
       "0.6060176991150442"
      ]
     },
     "execution_count": 56,
     "metadata": {},
     "output_type": "execute_result"
    }
   ],
   "source": [
    "metrics.accuracy_score(pred_ss_test_logistic, y_test)"
   ]
  },
  {
   "cell_type": "code",
   "execution_count": 57,
   "metadata": {},
   "outputs": [
    {
     "data": {
      "text/plain": [
       "0.9764111475831885"
      ]
     },
     "execution_count": 57,
     "metadata": {},
     "output_type": "execute_result"
    }
   ],
   "source": [
    "metrics.accuracy_score(pred_sc_train_logistic , y_train)"
   ]
  },
  {
   "cell_type": "code",
   "execution_count": 58,
   "metadata": {},
   "outputs": [
    {
     "data": {
      "text/plain": [
       "0.975929203539823"
      ]
     },
     "execution_count": 58,
     "metadata": {},
     "output_type": "execute_result"
    }
   ],
   "source": [
    "metrics.accuracy_score(pred_sc_test_logistic , y_test)"
   ]
  },
  {
   "cell_type": "code",
   "execution_count": 59,
   "metadata": {
    "scrolled": false
   },
   "outputs": [
    {
     "name": "stdout",
     "output_type": "stream",
     "text": [
      "              precision    recall  f1-score   support\n",
      "\n",
      "           0       0.80      1.00      0.89     24826\n",
      "           1       1.00      0.00      0.00      6249\n",
      "\n",
      "    accuracy                           0.80     31075\n",
      "   macro avg       0.90      0.50      0.45     31075\n",
      "weighted avg       0.84      0.80      0.71     31075\n",
      "\n"
     ]
    }
   ],
   "source": [
    "print(metrics.classification_report(y_test, pred_test_logistic))"
   ]
  },
  {
   "cell_type": "code",
   "execution_count": 76,
   "metadata": {},
   "outputs": [
    {
     "name": "stdout",
     "output_type": "stream",
     "text": [
      "              precision    recall  f1-score   support\n",
      "\n",
      "           0       0.97      1.00      0.99     24826\n",
      "           1       0.99      0.89      0.94      6249\n",
      "\n",
      "    accuracy                           0.98     31075\n",
      "   macro avg       0.98      0.94      0.96     31075\n",
      "weighted avg       0.98      0.98      0.98     31075\n",
      "\n"
     ]
    }
   ],
   "source": [
    "print(metrics.classification_report(y_test, pred_sc_test_logistic))"
   ]
  },
  {
   "cell_type": "code",
   "execution_count": 77,
   "metadata": {},
   "outputs": [
    {
     "data": {
      "text/plain": [
       "array([[24758,    68],\n",
       "       [  680,  5569]], dtype=int64)"
      ]
     },
     "execution_count": 77,
     "metadata": {},
     "output_type": "execute_result"
    }
   ],
   "source": [
    "confusion_matrix(y_test, pred_sc_test_logistic)"
   ]
  },
  {
   "cell_type": "code",
   "execution_count": 78,
   "metadata": {
    "scrolled": true
   },
   "outputs": [
    {
     "data": {
      "text/plain": [
       "<matplotlib.legend.Legend at 0x198bc9f6688>"
      ]
     },
     "execution_count": 78,
     "metadata": {},
     "output_type": "execute_result"
    },
    {
     "data": {
      "image/png": "[encoded data removed]",
      "text/plain": [
       "<Figure size 432x288 with 1 Axes>"
      ]
     },
     "metadata": {
      "needs_background": "light"
     },
     "output_type": "display_data"
    }
   ],
   "source": [
    "fpr,tpr, thresholds=roc_curve(y_test, pred_sc_test_logistic)\n",
    "\n",
    "plt.plot(fpr,tpr, label='roc_curve')\n",
    "plt.xlabel('false positive rate')\n",
    "plt.ylabel('true positive rate/recall')\n",
    "\n",
    "plt.legend(loc=4)\n"
   ]
  },
  {
   "cell_type": "code",
   "execution_count": 79,
   "metadata": {},
   "outputs": [
    {
     "data": {
      "text/plain": [
       "0.9442217626648187"
      ]
     },
     "execution_count": 79,
     "metadata": {},
     "output_type": "execute_result"
    }
   ],
   "source": [
    "roc_auc_score(y_test, pred_sc_test_logistic)"
   ]
  },
  {
   "cell_type": "code",
   "execution_count": 61,
   "metadata": {},
   "outputs": [
    {
     "data": {
      "text/plain": [
       "array([[24826,     0],\n",
       "       [ 6234,    15]], dtype=int64)"
      ]
     },
     "execution_count": 61,
     "metadata": {},
     "output_type": "execute_result"
    }
   ],
   "source": [
    "confusion_matrix(y_test, pred_test_logistic)"
   ]
  },
  {
   "cell_type": "code",
   "execution_count": 86,
   "metadata": {
    "scrolled": false
   },
   "outputs": [
    {
     "data": {
      "text/plain": [
       "<matplotlib.legend.Legend at 0x198d648db88>"
      ]
     },
     "execution_count": 86,
     "metadata": {},
     "output_type": "execute_result"
    },
    {
     "data": {
      "image/png": "[encoded data removed]",
      "text/plain": [
       "<Figure size 432x288 with 1 Axes>"
      ]
     },
     "metadata": {
      "needs_background": "light"
     },
     "output_type": "display_data"
    }
   ],
   "source": [
    "fpr,tpr, thresholds=roc_curve( y_test, pred_test_logistic)\n",
    "\n",
    "plt.plot(fpr,tpr, label='roc_curve')\n",
    "plt.xlabel('false positive rate')\n",
    "plt.ylabel('true positive rate/recall')\n",
    "\n",
    "plt.legend(loc=4)\n"
   ]
  },
  {
   "cell_type": "code",
   "execution_count": 85,
   "metadata": {},
   "outputs": [
    {
     "data": {
      "text/plain": [
       "0.501200192030725"
      ]
     },
     "execution_count": 85,
     "metadata": {},
     "output_type": "execute_result"
    }
   ],
   "source": [
    "roc_auc_score(y_test, pred_test_logistic)"
   ]
  },
  {
   "cell_type": "markdown",
   "metadata": {},
   "source": [
    "# Randomforestclassifier"
   ]
  },
  {
   "cell_type": "code",
   "execution_count": 64,
   "metadata": {
    "scrolled": true
   },
   "outputs": [
    {
     "name": "stderr",
     "output_type": "stream",
     "text": [
      "C:\\Users\\hzhdzt\\Anaconda3\\lib\\site-packages\\sklearn\\ensemble\\forest.py:245: FutureWarning: The default value of n_estimators will change from 10 in version 0.20 to 100 in 0.22.\n",
      "  \"10 in version 0.20 to 100 in 0.22.\", FutureWarning)\n",
      "C:\\Users\\hzhdzt\\Anaconda3\\lib\\site-packages\\sklearn\\ensemble\\forest.py:245: FutureWarning: The default value of n_estimators will change from 10 in version 0.20 to 100 in 0.22.\n",
      "  \"10 in version 0.20 to 100 in 0.22.\", FutureWarning)\n"
     ]
    }
   ],
   "source": [
    "forest_train=RandomForestClassifier().fit(X_train, y_train)\n",
    "forest_test=RandomForestClassifier().fit(X_test, y_test)"
   ]
  },
  {
   "cell_type": "code",
   "execution_count": 65,
   "metadata": {},
   "outputs": [],
   "source": [
    "pred_forest_train=forest_train.predict(X_train)\n",
    "pred_forest_test=forest_test.predict(X_test)\n",
    "pred_sc_forest_train = forest_train.predict(mm_scaler_train)\n",
    "pred_sc_forest_test = forest_test.predict(mm_scaler_test)\n",
    "pred_ss_forest_train=forest_train.predict(ss_scaler_train)\n",
    "pred_ss_forest_test =forest_test.predict(ss_scaler_test)"
   ]
  },
  {
   "cell_type": "code",
   "execution_count": 66,
   "metadata": {},
   "outputs": [
    {
     "data": {
      "text/plain": [
       "0.20110059857115273"
      ]
     },
     "execution_count": 66,
     "metadata": {},
     "output_type": "execute_result"
    }
   ],
   "source": [
    "metrics.accuracy_score(pred_sc_forest_train, y_train)"
   ]
  },
  {
   "cell_type": "code",
   "execution_count": 67,
   "metadata": {},
   "outputs": [
    {
     "data": {
      "text/plain": [
       "0.20109412711182623"
      ]
     },
     "execution_count": 67,
     "metadata": {},
     "output_type": "execute_result"
    }
   ],
   "source": [
    "metrics.accuracy_score(pred_sc_forest_test, y_test)"
   ]
  },
  {
   "cell_type": "code",
   "execution_count": 68,
   "metadata": {},
   "outputs": [
    {
     "data": {
      "text/plain": [
       "0.9966853317886336"
      ]
     },
     "execution_count": 68,
     "metadata": {},
     "output_type": "execute_result"
    }
   ],
   "source": [
    "metrics.accuracy_score(pred_forest_train, y_train)"
   ]
  },
  {
   "cell_type": "code",
   "execution_count": 102,
   "metadata": {},
   "outputs": [
    {
     "data": {
      "text/plain": [
       "0.9965888978278359"
      ]
     },
     "execution_count": 102,
     "metadata": {},
     "output_type": "execute_result"
    }
   ],
   "source": [
    "ranforest=metrics.accuracy_score(pred_forest_test,y_test)\n",
    "ranforest"
   ]
  },
  {
   "cell_type": "code",
   "execution_count": 70,
   "metadata": {},
   "outputs": [
    {
     "data": {
      "text/plain": [
       "0.20119714230546437"
      ]
     },
     "execution_count": 70,
     "metadata": {},
     "output_type": "execute_result"
    }
   ],
   "source": [
    "metrics.accuracy_score(pred_ss_forest_train, y_train)"
   ]
  },
  {
   "cell_type": "code",
   "execution_count": 71,
   "metadata": {},
   "outputs": [
    {
     "data": {
      "text/plain": [
       "0.20109412711182623"
      ]
     },
     "execution_count": 71,
     "metadata": {},
     "output_type": "execute_result"
    }
   ],
   "source": [
    "metrics.accuracy_score(pred_ss_forest_test, y_test)"
   ]
  },
  {
   "cell_type": "code",
   "execution_count": 80,
   "metadata": {
    "scrolled": true
   },
   "outputs": [
    {
     "name": "stdout",
     "output_type": "stream",
     "text": [
      "              precision    recall  f1-score   support\n",
      "\n",
      "           0       0.00      0.00      0.00         0\n",
      "           1       1.00      0.20      0.33     31075\n",
      "\n",
      "    accuracy                           0.20     31075\n",
      "   macro avg       0.50      0.10      0.17     31075\n",
      "weighted avg       1.00      0.20      0.33     31075\n",
      "\n"
     ]
    },
    {
     "name": "stderr",
     "output_type": "stream",
     "text": [
      "C:\\Users\\hzhdzt\\Anaconda3\\lib\\site-packages\\sklearn\\metrics\\classification.py:1439: UndefinedMetricWarning: Recall and F-score are ill-defined and being set to 0.0 in labels with no true samples.\n",
      "  'recall', 'true', average, warn_for)\n"
     ]
    }
   ],
   "source": [
    "print(metrics.classification_report(pred_ss_forest_test, y_test))"
   ]
  },
  {
   "cell_type": "code",
   "execution_count": 92,
   "metadata": {
    "scrolled": false
   },
   "outputs": [
    {
     "name": "stdout",
     "output_type": "stream",
     "text": [
      "              precision    recall  f1-score   support\n",
      "\n",
      "           0       1.00      1.00      1.00     24826\n",
      "           1       1.00      0.98      0.99      6249\n",
      "\n",
      "    accuracy                           1.00     31075\n",
      "   macro avg       1.00      0.99      0.99     31075\n",
      "weighted avg       1.00      1.00      1.00     31075\n",
      "\n"
     ]
    }
   ],
   "source": [
    "print(metrics.classification_report(y_test,pred_forest_test))"
   ]
  },
  {
   "cell_type": "code",
   "execution_count": 94,
   "metadata": {
    "scrolled": true
   },
   "outputs": [
    {
     "data": {
      "text/plain": [
       "array([[24826,     0],\n",
       "       [  106,  6143]], dtype=int64)"
      ]
     },
     "execution_count": 94,
     "metadata": {},
     "output_type": "execute_result"
    }
   ],
   "source": [
    "confusion_matrix(y_test,pred_forest_test)"
   ]
  },
  {
   "cell_type": "code",
   "execution_count": 98,
   "metadata": {
    "scrolled": true
   },
   "outputs": [
    {
     "data": {
      "text/plain": [
       "<matplotlib.legend.Legend at 0x198d65b7388>"
      ]
     },
     "execution_count": 98,
     "metadata": {},
     "output_type": "execute_result"
    },
    {
     "data": {
      "image/png": "[encoded data removed]",
      "text/plain": [
       "<Figure size 432x288 with 1 Axes>"
      ]
     },
     "metadata": {
      "needs_background": "light"
     },
     "output_type": "display_data"
    }
   ],
   "source": [
    "fpr,tpr, thresholds=roc_curve(pred_forest_test,y_test)\n",
    "\n",
    "plt.plot(fpr,tpr, label='roc_curve')\n",
    "plt.xlabel('false positive rate')\n",
    "plt.ylabel('true positive rate/recall')\n",
    "\n",
    "plt.legend(loc=4)\n"
   ]
  },
  {
   "cell_type": "code",
   "execution_count": 100,
   "metadata": {},
   "outputs": [
    {
     "data": {
      "text/plain": [
       "0.9915186429828773"
      ]
     },
     "execution_count": 100,
     "metadata": {},
     "output_type": "execute_result"
    }
   ],
   "source": [
    "roc_auc_score( y_test,pred_forest_test)"
   ]
  },
  {
   "cell_type": "code",
   "execution_count": 108,
   "metadata": {},
   "outputs": [
    {
     "data": {
      "image/png": "[encoded data removed]",
      "text/plain": [
       "<Figure size 864x360 with 1 Axes>"
      ]
     },
     "metadata": {
      "needs_background": "light"
     },
     "output_type": "display_data"
    }
   ],
   "source": [
    "relationship = {\n",
    "    'ranforest': ranforest,\n",
    "    'logreg': logreg, \n",
    "}\n",
    "\n",
    "pd.Series(relationship).plot(kind='bar', figsize=(12, 5), rot=0);"
   ]
  },
  {
   "cell_type": "markdown",
   "metadata": {},
   "source": [
    "comparing logisticregression to randomforestclassifier,\n",
    "..without feature scaling, randomforestclassifier model gives a better performance\n",
    "..accuracy metrics for randomforestclassifier looks better as compared to logisticregression.\n",
    "..with roc_auc_score, it produces 0.5 accuracy for all imbalanced datasets but randomforestclassifier has a higher auc \n",
    "   accuracy than logisticregresion.\n",
    "    \n",
    "RandomForestClassifier model is regarded better than LogisticRegression model    "
   ]
  },
  {
   "cell_type": "markdown",
   "metadata": {},
   "source": [
    "# SMV"
   ]
  },
  {
   "cell_type": "code",
   "execution_count": null,
   "metadata": {},
   "outputs": [],
   "source": [
    "svm_lin = svm.SVC(kernel='linear', random_state=133)\n",
    "a=svm_lin.fit(X_train, y_train)\n",
    "b=svm_lin.fit(X_test, y_test)"
   ]
  },
  {
   "cell_type": "code",
   "execution_count": null,
   "metadata": {},
   "outputs": [],
   "source": [
    "svm_pred_train=a.predict(X_train)\n",
    "svm_pred_train_s=a.predict(mm_scaler_train)\n",
    "svm_pred_test=b.predict(X_test)\n",
    "svm_pred_test_s=b.predict(mm_scaler_test)"
   ]
  },
  {
   "cell_type": "code",
   "execution_count": null,
   "metadata": {},
   "outputs": [],
   "source": [
    "metrics.accuracy_score(svm_pred_train, y_train)"
   ]
  },
  {
   "cell_type": "code",
   "execution_count": null,
   "metadata": {},
   "outputs": [],
   "source": []
  },
  {
   "cell_type": "code",
   "execution_count": null,
   "metadata": {},
   "outputs": [],
   "source": []
  },
  {
   "cell_type": "code",
   "execution_count": null,
   "metadata": {},
   "outputs": [],
   "source": []
  }
 ],
 "metadata": {
  "kernelspec": {
   "display_name": "Python 3",
   "language": "python",
   "name": "python3"
  },
  "language_info": {
   "codemirror_mode": {
    "name": "ipython",
    "version": 3
   },
   "file_extension": ".py",
   "mimetype": "text/x-python",
   "name": "python",
   "nbconvert_exporter": "python",
   "pygments_lexer": "ipython3",
   "version": "3.7.4"
  }
 },
 "nbformat": 4,
 "nbformat_minor": 2
}
