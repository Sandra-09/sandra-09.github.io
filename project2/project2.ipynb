{
 "cells": [
  {
   "cell_type": "code",
   "execution_count": 1,
   "metadata": {},
   "outputs": [
    {
     "data": {
      "text/html": [
       "<div>\n",
       "<style scoped>\n",
       "    .dataframe tbody tr th:only-of-type {\n",
       "        vertical-align: middle;\n",
       "    }\n",
       "\n",
       "    .dataframe tbody tr th {\n",
       "        vertical-align: top;\n",
       "    }\n",
       "\n",
       "    .dataframe thead th {\n",
       "        text-align: right;\n",
       "    }\n",
       "</style>\n",
       "<table border=\"1\" class=\"dataframe\">\n",
       "  <thead>\n",
       "    <tr style=\"text-align: right;\">\n",
       "      <th></th>\n",
       "      <th>date</th>\n",
       "      <th>price</th>\n",
       "      <th>bedrooms</th>\n",
       "      <th>bathrooms</th>\n",
       "      <th>sqft_living</th>\n",
       "      <th>sqft_lot</th>\n",
       "      <th>floors</th>\n",
       "      <th>waterfront</th>\n",
       "      <th>view</th>\n",
       "      <th>condition</th>\n",
       "      <th>sqft_above</th>\n",
       "      <th>sqft_basement</th>\n",
       "      <th>yr_built</th>\n",
       "      <th>yr_renovated</th>\n",
       "      <th>street</th>\n",
       "      <th>city</th>\n",
       "      <th>statezip</th>\n",
       "      <th>country</th>\n",
       "    </tr>\n",
       "  </thead>\n",
       "  <tbody>\n",
       "    <tr>\n",
       "      <td>0</td>\n",
       "      <td>2014-05-02</td>\n",
       "      <td>3.130000e+05</td>\n",
       "      <td>3</td>\n",
       "      <td>1.50</td>\n",
       "      <td>1340</td>\n",
       "      <td>7912</td>\n",
       "      <td>1.5</td>\n",
       "      <td>0</td>\n",
       "      <td>0</td>\n",
       "      <td>3</td>\n",
       "      <td>1340</td>\n",
       "      <td>0</td>\n",
       "      <td>1955</td>\n",
       "      <td>2005</td>\n",
       "      <td>18810 Densmore Ave N</td>\n",
       "      <td>Shoreline</td>\n",
       "      <td>WA 98133</td>\n",
       "      <td>USA</td>\n",
       "    </tr>\n",
       "    <tr>\n",
       "      <td>1</td>\n",
       "      <td>2014-05-02</td>\n",
       "      <td>2.384000e+06</td>\n",
       "      <td>5</td>\n",
       "      <td>2.50</td>\n",
       "      <td>3650</td>\n",
       "      <td>9050</td>\n",
       "      <td>2.0</td>\n",
       "      <td>0</td>\n",
       "      <td>4</td>\n",
       "      <td>5</td>\n",
       "      <td>3370</td>\n",
       "      <td>280</td>\n",
       "      <td>1921</td>\n",
       "      <td>0</td>\n",
       "      <td>709 W Blaine St</td>\n",
       "      <td>Seattle</td>\n",
       "      <td>WA 98119</td>\n",
       "      <td>USA</td>\n",
       "    </tr>\n",
       "    <tr>\n",
       "      <td>2</td>\n",
       "      <td>2014-05-02</td>\n",
       "      <td>3.420000e+05</td>\n",
       "      <td>3</td>\n",
       "      <td>2.00</td>\n",
       "      <td>1930</td>\n",
       "      <td>11947</td>\n",
       "      <td>1.0</td>\n",
       "      <td>0</td>\n",
       "      <td>0</td>\n",
       "      <td>4</td>\n",
       "      <td>1930</td>\n",
       "      <td>0</td>\n",
       "      <td>1966</td>\n",
       "      <td>0</td>\n",
       "      <td>26206-26214 143rd Ave SE</td>\n",
       "      <td>Kent</td>\n",
       "      <td>WA 98042</td>\n",
       "      <td>USA</td>\n",
       "    </tr>\n",
       "    <tr>\n",
       "      <td>3</td>\n",
       "      <td>2014-05-02</td>\n",
       "      <td>4.200000e+05</td>\n",
       "      <td>3</td>\n",
       "      <td>2.25</td>\n",
       "      <td>2000</td>\n",
       "      <td>8030</td>\n",
       "      <td>1.0</td>\n",
       "      <td>0</td>\n",
       "      <td>0</td>\n",
       "      <td>4</td>\n",
       "      <td>1000</td>\n",
       "      <td>1000</td>\n",
       "      <td>1963</td>\n",
       "      <td>0</td>\n",
       "      <td>857 170th Pl NE</td>\n",
       "      <td>Bellevue</td>\n",
       "      <td>WA 98008</td>\n",
       "      <td>USA</td>\n",
       "    </tr>\n",
       "    <tr>\n",
       "      <td>4</td>\n",
       "      <td>2014-05-02</td>\n",
       "      <td>5.500000e+05</td>\n",
       "      <td>4</td>\n",
       "      <td>2.50</td>\n",
       "      <td>1940</td>\n",
       "      <td>10500</td>\n",
       "      <td>1.0</td>\n",
       "      <td>0</td>\n",
       "      <td>0</td>\n",
       "      <td>4</td>\n",
       "      <td>1140</td>\n",
       "      <td>800</td>\n",
       "      <td>1976</td>\n",
       "      <td>1992</td>\n",
       "      <td>9105 170th Ave NE</td>\n",
       "      <td>Redmond</td>\n",
       "      <td>WA 98052</td>\n",
       "      <td>USA</td>\n",
       "    </tr>\n",
       "    <tr>\n",
       "      <td>...</td>\n",
       "      <td>...</td>\n",
       "      <td>...</td>\n",
       "      <td>...</td>\n",
       "      <td>...</td>\n",
       "      <td>...</td>\n",
       "      <td>...</td>\n",
       "      <td>...</td>\n",
       "      <td>...</td>\n",
       "      <td>...</td>\n",
       "      <td>...</td>\n",
       "      <td>...</td>\n",
       "      <td>...</td>\n",
       "      <td>...</td>\n",
       "      <td>...</td>\n",
       "      <td>...</td>\n",
       "      <td>...</td>\n",
       "      <td>...</td>\n",
       "      <td>...</td>\n",
       "    </tr>\n",
       "    <tr>\n",
       "      <td>4595</td>\n",
       "      <td>2014-07-09</td>\n",
       "      <td>3.081667e+05</td>\n",
       "      <td>3</td>\n",
       "      <td>1.75</td>\n",
       "      <td>1510</td>\n",
       "      <td>6360</td>\n",
       "      <td>1.0</td>\n",
       "      <td>0</td>\n",
       "      <td>0</td>\n",
       "      <td>4</td>\n",
       "      <td>1510</td>\n",
       "      <td>0</td>\n",
       "      <td>1954</td>\n",
       "      <td>1979</td>\n",
       "      <td>501 N 143rd St</td>\n",
       "      <td>Seattle</td>\n",
       "      <td>WA 98133</td>\n",
       "      <td>USA</td>\n",
       "    </tr>\n",
       "    <tr>\n",
       "      <td>4596</td>\n",
       "      <td>2014-07-09</td>\n",
       "      <td>5.343333e+05</td>\n",
       "      <td>3</td>\n",
       "      <td>2.50</td>\n",
       "      <td>1460</td>\n",
       "      <td>7573</td>\n",
       "      <td>2.0</td>\n",
       "      <td>0</td>\n",
       "      <td>0</td>\n",
       "      <td>3</td>\n",
       "      <td>1460</td>\n",
       "      <td>0</td>\n",
       "      <td>1983</td>\n",
       "      <td>2009</td>\n",
       "      <td>14855 SE 10th Pl</td>\n",
       "      <td>Bellevue</td>\n",
       "      <td>WA 98007</td>\n",
       "      <td>USA</td>\n",
       "    </tr>\n",
       "    <tr>\n",
       "      <td>4597</td>\n",
       "      <td>2014-07-09</td>\n",
       "      <td>4.169042e+05</td>\n",
       "      <td>3</td>\n",
       "      <td>2.50</td>\n",
       "      <td>3010</td>\n",
       "      <td>7014</td>\n",
       "      <td>2.0</td>\n",
       "      <td>0</td>\n",
       "      <td>0</td>\n",
       "      <td>3</td>\n",
       "      <td>3010</td>\n",
       "      <td>0</td>\n",
       "      <td>2009</td>\n",
       "      <td>0</td>\n",
       "      <td>759 Ilwaco Pl NE</td>\n",
       "      <td>Renton</td>\n",
       "      <td>WA 98059</td>\n",
       "      <td>USA</td>\n",
       "    </tr>\n",
       "    <tr>\n",
       "      <td>4598</td>\n",
       "      <td>2014-07-10</td>\n",
       "      <td>2.034000e+05</td>\n",
       "      <td>4</td>\n",
       "      <td>2.00</td>\n",
       "      <td>2090</td>\n",
       "      <td>6630</td>\n",
       "      <td>1.0</td>\n",
       "      <td>0</td>\n",
       "      <td>0</td>\n",
       "      <td>3</td>\n",
       "      <td>1070</td>\n",
       "      <td>1020</td>\n",
       "      <td>1974</td>\n",
       "      <td>0</td>\n",
       "      <td>5148 S Creston St</td>\n",
       "      <td>Seattle</td>\n",
       "      <td>WA 98178</td>\n",
       "      <td>USA</td>\n",
       "    </tr>\n",
       "    <tr>\n",
       "      <td>4599</td>\n",
       "      <td>2014-07-10</td>\n",
       "      <td>2.206000e+05</td>\n",
       "      <td>3</td>\n",
       "      <td>2.50</td>\n",
       "      <td>1490</td>\n",
       "      <td>8102</td>\n",
       "      <td>2.0</td>\n",
       "      <td>0</td>\n",
       "      <td>0</td>\n",
       "      <td>4</td>\n",
       "      <td>1490</td>\n",
       "      <td>0</td>\n",
       "      <td>1990</td>\n",
       "      <td>0</td>\n",
       "      <td>18717 SE 258th St</td>\n",
       "      <td>Covington</td>\n",
       "      <td>WA 98042</td>\n",
       "      <td>USA</td>\n",
       "    </tr>\n",
       "  </tbody>\n",
       "</table>\n",
       "<p>4600 rows × 18 columns</p>\n",
       "</div>"
      ],
      "text/plain": [
       "           date         price  bedrooms  bathrooms  sqft_living  sqft_lot  \\\n",
       "0    2014-05-02  3.130000e+05         3       1.50         1340      7912   \n",
       "1    2014-05-02  2.384000e+06         5       2.50         3650      9050   \n",
       "2    2014-05-02  3.420000e+05         3       2.00         1930     11947   \n",
       "3    2014-05-02  4.200000e+05         3       2.25         2000      8030   \n",
       "4    2014-05-02  5.500000e+05         4       2.50         1940     10500   \n",
       "...         ...           ...       ...        ...          ...       ...   \n",
       "4595 2014-07-09  3.081667e+05         3       1.75         1510      6360   \n",
       "4596 2014-07-09  5.343333e+05         3       2.50         1460      7573   \n",
       "4597 2014-07-09  4.169042e+05         3       2.50         3010      7014   \n",
       "4598 2014-07-10  2.034000e+05         4       2.00         2090      6630   \n",
       "4599 2014-07-10  2.206000e+05         3       2.50         1490      8102   \n",
       "\n",
       "      floors  waterfront  view  condition  sqft_above  sqft_basement  \\\n",
       "0        1.5           0     0          3        1340              0   \n",
       "1        2.0           0     4          5        3370            280   \n",
       "2        1.0           0     0          4        1930              0   \n",
       "3        1.0           0     0          4        1000           1000   \n",
       "4        1.0           0     0          4        1140            800   \n",
       "...      ...         ...   ...        ...         ...            ...   \n",
       "4595     1.0           0     0          4        1510              0   \n",
       "4596     2.0           0     0          3        1460              0   \n",
       "4597     2.0           0     0          3        3010              0   \n",
       "4598     1.0           0     0          3        1070           1020   \n",
       "4599     2.0           0     0          4        1490              0   \n",
       "\n",
       "      yr_built  yr_renovated                    street       city  statezip  \\\n",
       "0         1955          2005      18810 Densmore Ave N  Shoreline  WA 98133   \n",
       "1         1921             0           709 W Blaine St    Seattle  WA 98119   \n",
       "2         1966             0  26206-26214 143rd Ave SE       Kent  WA 98042   \n",
       "3         1963             0           857 170th Pl NE   Bellevue  WA 98008   \n",
       "4         1976          1992         9105 170th Ave NE    Redmond  WA 98052   \n",
       "...        ...           ...                       ...        ...       ...   \n",
       "4595      1954          1979            501 N 143rd St    Seattle  WA 98133   \n",
       "4596      1983          2009          14855 SE 10th Pl   Bellevue  WA 98007   \n",
       "4597      2009             0          759 Ilwaco Pl NE     Renton  WA 98059   \n",
       "4598      1974             0         5148 S Creston St    Seattle  WA 98178   \n",
       "4599      1990             0         18717 SE 258th St  Covington  WA 98042   \n",
       "\n",
       "     country  \n",
       "0        USA  \n",
       "1        USA  \n",
       "2        USA  \n",
       "3        USA  \n",
       "4        USA  \n",
       "...      ...  \n",
       "4595     USA  \n",
       "4596     USA  \n",
       "4597     USA  \n",
       "4598     USA  \n",
       "4599     USA  \n",
       "\n",
       "[4600 rows x 18 columns]"
      ]
     },
     "execution_count": 1,
     "metadata": {},
     "output_type": "execute_result"
    }
   ],
   "source": [
    "import pandas as pd\n",
    "import seaborn as sn\n",
    "import matplotlib.pyplot as plt\n",
    "import matplotlib.style as style\n",
    "df=pd.read_csv('data.csv', parse_dates=['date'])\n",
    "df"
   ]
  },
  {
   "cell_type": "code",
   "execution_count": 2,
   "metadata": {},
   "outputs": [
    {
     "data": {
      "text/plain": [
       "(4600, 18)"
      ]
     },
     "execution_count": 2,
     "metadata": {},
     "output_type": "execute_result"
    }
   ],
   "source": [
    "df.shape"
   ]
  },
  {
   "cell_type": "code",
   "execution_count": 3,
   "metadata": {},
   "outputs": [
    {
     "data": {
      "text/plain": [
       "date             datetime64[ns]\n",
       "price                   float64\n",
       "bedrooms                  int64\n",
       "bathrooms               float64\n",
       "sqft_living               int64\n",
       "sqft_lot                  int64\n",
       "floors                  float64\n",
       "waterfront                int64\n",
       "view                      int64\n",
       "condition                 int64\n",
       "sqft_above                int64\n",
       "sqft_basement             int64\n",
       "yr_built                  int64\n",
       "yr_renovated              int64\n",
       "street                   object\n",
       "city                     object\n",
       "statezip                 object\n",
       "country                  object\n",
       "dtype: object"
      ]
     },
     "execution_count": 3,
     "metadata": {},
     "output_type": "execute_result"
    }
   ],
   "source": [
    "df.dtypes"
   ]
  },
  {
   "cell_type": "code",
   "execution_count": 4,
   "metadata": {},
   "outputs": [
    {
     "data": {
      "text/plain": [
       "date             0\n",
       "price            0\n",
       "bedrooms         0\n",
       "bathrooms        0\n",
       "sqft_living      0\n",
       "sqft_lot         0\n",
       "floors           0\n",
       "waterfront       0\n",
       "view             0\n",
       "condition        0\n",
       "sqft_above       0\n",
       "sqft_basement    0\n",
       "yr_built         0\n",
       "yr_renovated     0\n",
       "street           0\n",
       "city             0\n",
       "statezip         0\n",
       "country          0\n",
       "dtype: int64"
      ]
     },
     "execution_count": 4,
     "metadata": {},
     "output_type": "execute_result"
    }
   ],
   "source": [
    "df.isna().sum()"
   ]
  },
  {
   "cell_type": "code",
   "execution_count": 87,
   "metadata": {},
   "outputs": [
    {
     "data": {
      "text/plain": [
       "0.0"
      ]
     },
     "execution_count": 87,
     "metadata": {},
     "output_type": "execute_result"
    }
   ],
   "source": [
    "df['price'].min()"
   ]
  },
  {
   "cell_type": "code",
   "execution_count": 5,
   "metadata": {},
   "outputs": [],
   "source": [
    "%matplotlib inline\n",
    "style.use('seaborn-poster')\n",
    "style.use('ggplot')\n",
    "\n",
    "plt.rc('figure', figsize=(10, 4))"
   ]
  },
  {
   "cell_type": "code",
   "execution_count": 6,
   "metadata": {},
   "outputs": [
    {
     "data": {
      "text/plain": [
       "Index(['date', 'price', 'bedrooms', 'bathrooms', 'sqft_living', 'sqft_lot',\n",
       "       'floors', 'waterfront', 'view', 'condition', 'sqft_above',\n",
       "       'sqft_basement', 'yr_built', 'yr_renovated', 'street', 'city',\n",
       "       'statezip', 'country'],\n",
       "      dtype='object')"
      ]
     },
     "execution_count": 6,
     "metadata": {},
     "output_type": "execute_result"
    }
   ],
   "source": [
    "df.columns"
   ]
  },
  {
   "cell_type": "code",
   "execution_count": 7,
   "metadata": {},
   "outputs": [],
   "source": [
    "cat_var=['bedrooms','bathrooms','waterfront','view','condition','street', 'city']"
   ]
  },
  {
   "cell_type": "code",
   "execution_count": 8,
   "metadata": {},
   "outputs": [
    {
     "data": {
      "text/plain": [
       "<matplotlib.axes._subplots.AxesSubplot at 0x1e98bd2d548>"
      ]
     },
     "execution_count": 8,
     "metadata": {},
     "output_type": "execute_result"
    },
    {
     "data": {
      "image/png": "[encoded data removed]",
      "text/plain": [
       "<Figure size 720x288 with 1 Axes>"
      ]
     },
     "metadata": {},
     "output_type": "display_data"
    }
   ],
   "source": [
    "df['bedrooms'].value_counts().sort_index().plot(kind='bar')"
   ]
  },
  {
   "cell_type": "code",
   "execution_count": 9,
   "metadata": {},
   "outputs": [
    {
     "data": {
      "text/plain": [
       "<matplotlib.axes._subplots.AxesSubplot at 0x1e98bd42d48>"
      ]
     },
     "execution_count": 9,
     "metadata": {},
     "output_type": "execute_result"
    },
    {
     "data": {
      "image/png": "[encoded data removed]",
      "text/plain": [
       "<Figure size 720x288 with 1 Axes>"
      ]
     },
     "metadata": {},
     "output_type": "display_data"
    }
   ],
   "source": [
    "df['bathrooms'].value_counts().sort_index().plot(kind='bar')"
   ]
  },
  {
   "cell_type": "code",
   "execution_count": 10,
   "metadata": {},
   "outputs": [
    {
     "data": {
      "text/plain": [
       "<matplotlib.axes._subplots.AxesSubplot at 0x1e98be5ae88>"
      ]
     },
     "execution_count": 10,
     "metadata": {},
     "output_type": "execute_result"
    },
    {
     "data": {
      "image/png": "[encoded data removed]",
      "text/plain": [
       "<Figure size 720x288 with 1 Axes>"
      ]
     },
     "metadata": {},
     "output_type": "display_data"
    }
   ],
   "source": [
    "df['waterfront'].value_counts().sort_index().plot(kind='bar')"
   ]
  },
  {
   "cell_type": "code",
   "execution_count": 11,
   "metadata": {},
   "outputs": [
    {
     "data": {
      "text/plain": [
       "<matplotlib.axes._subplots.AxesSubplot at 0x1e98bebfb88>"
      ]
     },
     "execution_count": 11,
     "metadata": {},
     "output_type": "execute_result"
    },
    {
     "data": {
      "image/png": "[encoded data removed]",
      "text/plain": [
       "<Figure size 720x288 with 1 Axes>"
      ]
     },
     "metadata": {},
     "output_type": "display_data"
    }
   ],
   "source": [
    "df['view'].value_counts().sort_index().plot(kind='bar')"
   ]
  },
  {
   "cell_type": "code",
   "execution_count": 12,
   "metadata": {},
   "outputs": [
    {
     "data": {
      "text/plain": [
       "<matplotlib.axes._subplots.AxesSubplot at 0x1e98bf28608>"
      ]
     },
     "execution_count": 12,
     "metadata": {},
     "output_type": "execute_result"
    },
    {
     "data": {
      "image/png": "[encoded data removed]",
      "text/plain": [
       "<Figure size 720x288 with 1 Axes>"
      ]
     },
     "metadata": {},
     "output_type": "display_data"
    }
   ],
   "source": [
    "df['condition'].value_counts().sort_index().plot(kind='bar')"
   ]
  },
  {
   "cell_type": "code",
   "execution_count": 13,
   "metadata": {},
   "outputs": [
    {
     "data": {
      "text/plain": [
       "<matplotlib.axes._subplots.AxesSubplot at 0x1e98bf95248>"
      ]
     },
     "execution_count": 13,
     "metadata": {},
     "output_type": "execute_result"
    },
    {
     "data": {
      "image/png": "[encoded data removed]",
      "text/plain": [
       "<Figure size 720x288 with 1 Axes>"
      ]
     },
     "metadata": {},
     "output_type": "display_data"
    }
   ],
   "source": [
    "df['city'].value_counts().sort_index().plot(kind='bar')"
   ]
  },
  {
   "cell_type": "code",
   "execution_count": 14,
   "metadata": {},
   "outputs": [
    {
     "data": {
      "text/plain": [
       "Index(['date', 'price', 'bedrooms', 'bathrooms', 'sqft_living', 'sqft_lot',\n",
       "       'floors', 'waterfront', 'view', 'condition', 'sqft_above',\n",
       "       'sqft_basement', 'yr_built', 'yr_renovated', 'street', 'city',\n",
       "       'statezip', 'country'],\n",
       "      dtype='object')"
      ]
     },
     "execution_count": 14,
     "metadata": {},
     "output_type": "execute_result"
    }
   ],
   "source": [
    "df.columns"
   ]
  },
  {
   "cell_type": "code",
   "execution_count": 15,
   "metadata": {},
   "outputs": [],
   "source": [
    "continous_var=['sqft_living','sqft_lot','sqft_above','sqft_basement','floors']"
   ]
  },
  {
   "cell_type": "code",
   "execution_count": 16,
   "metadata": {},
   "outputs": [
    {
     "data": {
      "image/png": "[encoded data removed]",
      "text/plain": [
       "<Figure size 720x864 with 10 Axes>"
      ]
     },
     "metadata": {},
     "output_type": "display_data"
    }
   ],
   "source": [
    "continous_var=['sqft_living','sqft_lot','sqft_above','sqft_basement','floors']\n",
    "list(enumerate(continous_var))\n",
    "fig, axes = plt.subplots(5, 2, figsize=(10, 12))\n",
    "\n",
    "for i, col in enumerate(continous_var):\n",
    "    sn.boxplot(df[col], ax=axes[i, 0]);\n",
    "    sn.distplot(df[col], kde=False, ax=axes[i, 1],);\n",
    "        \n",
    "    \n",
    "fig.tight_layout()"
   ]
  },
  {
   "cell_type": "code",
   "execution_count": 17,
   "metadata": {
    "scrolled": true
   },
   "outputs": [
    {
     "data": {
      "text/plain": [
       "<matplotlib.axes._subplots.AxesSubplot at 0x1e98c8bae08>"
      ]
     },
     "execution_count": 17,
     "metadata": {},
     "output_type": "execute_result"
    },
    {
     "data": {
      "image/png": "[encoded data removed]",
      "text/plain": [
       "<Figure size 720x288 with 1 Axes>"
      ]
     },
     "metadata": {},
     "output_type": "display_data"
    }
   ],
   "source": [
    "#lot_bins=pd.cut(df['sqft_lot'], range(1000, 10000, 100000, 1000000))\n",
    "sn.boxplot(df['sqft_lot'])"
   ]
  },
  {
   "cell_type": "code",
   "execution_count": 18,
   "metadata": {},
   "outputs": [
    {
     "data": {
      "text/plain": [
       "<matplotlib.axes._subplots.AxesSubplot at 0x1e98c63bc48>"
      ]
     },
     "execution_count": 18,
     "metadata": {},
     "output_type": "execute_result"
    },
    {
     "data": {
      "image/png": "[encoded data removed]",
      "text/plain": [
       "<Figure size 720x288 with 1 Axes>"
      ]
     },
     "metadata": {},
     "output_type": "display_data"
    }
   ],
   "source": [
    "sn.distplot(df['sqft_lot'])"
   ]
  },
  {
   "cell_type": "code",
   "execution_count": null,
   "metadata": {},
   "outputs": [],
   "source": []
  },
  {
   "cell_type": "code",
   "execution_count": 19,
   "metadata": {
    "scrolled": true
   },
   "outputs": [
    {
     "data": {
      "text/html": [
       "<div>\n",
       "<style scoped>\n",
       "    .dataframe tbody tr th:only-of-type {\n",
       "        vertical-align: middle;\n",
       "    }\n",
       "\n",
       "    .dataframe tbody tr th {\n",
       "        vertical-align: top;\n",
       "    }\n",
       "\n",
       "    .dataframe thead th {\n",
       "        text-align: right;\n",
       "    }\n",
       "</style>\n",
       "<table border=\"1\" class=\"dataframe\">\n",
       "  <thead>\n",
       "    <tr style=\"text-align: right;\">\n",
       "      <th></th>\n",
       "      <th>price</th>\n",
       "      <th>bedrooms</th>\n",
       "      <th>bathrooms</th>\n",
       "      <th>sqft_living</th>\n",
       "      <th>sqft_lot</th>\n",
       "      <th>floors</th>\n",
       "      <th>waterfront</th>\n",
       "      <th>view</th>\n",
       "      <th>condition</th>\n",
       "      <th>sqft_above</th>\n",
       "      <th>sqft_basement</th>\n",
       "      <th>yr_built</th>\n",
       "      <th>yr_renovated</th>\n",
       "    </tr>\n",
       "    <tr>\n",
       "      <th>city</th>\n",
       "      <th></th>\n",
       "      <th></th>\n",
       "      <th></th>\n",
       "      <th></th>\n",
       "      <th></th>\n",
       "      <th></th>\n",
       "      <th></th>\n",
       "      <th></th>\n",
       "      <th></th>\n",
       "      <th></th>\n",
       "      <th></th>\n",
       "      <th></th>\n",
       "      <th></th>\n",
       "    </tr>\n",
       "  </thead>\n",
       "  <tbody>\n",
       "    <tr>\n",
       "      <td>Algona</td>\n",
       "      <td>1.036440e+06</td>\n",
       "      <td>16</td>\n",
       "      <td>9.50</td>\n",
       "      <td>8043</td>\n",
       "      <td>57471</td>\n",
       "      <td>7.0</td>\n",
       "      <td>0</td>\n",
       "      <td>0</td>\n",
       "      <td>16</td>\n",
       "      <td>8043</td>\n",
       "      <td>0</td>\n",
       "      <td>9916</td>\n",
       "      <td>4002</td>\n",
       "    </tr>\n",
       "    <tr>\n",
       "      <td>Auburn</td>\n",
       "      <td>5.268392e+07</td>\n",
       "      <td>602</td>\n",
       "      <td>368.25</td>\n",
       "      <td>355446</td>\n",
       "      <td>4399863</td>\n",
       "      <td>255.0</td>\n",
       "      <td>0</td>\n",
       "      <td>22</td>\n",
       "      <td>600</td>\n",
       "      <td>327756</td>\n",
       "      <td>27690</td>\n",
       "      <td>348620</td>\n",
       "      <td>127734</td>\n",
       "    </tr>\n",
       "    <tr>\n",
       "      <td>Beaux Arts Village</td>\n",
       "      <td>7.450000e+05</td>\n",
       "      <td>3</td>\n",
       "      <td>1.75</td>\n",
       "      <td>1490</td>\n",
       "      <td>9800</td>\n",
       "      <td>1.0</td>\n",
       "      <td>0</td>\n",
       "      <td>0</td>\n",
       "      <td>4</td>\n",
       "      <td>1140</td>\n",
       "      <td>350</td>\n",
       "      <td>1947</td>\n",
       "      <td>1988</td>\n",
       "    </tr>\n",
       "    <tr>\n",
       "      <td>Bellevue</td>\n",
       "      <td>2.422937e+08</td>\n",
       "      <td>1088</td>\n",
       "      <td>701.75</td>\n",
       "      <td>770635</td>\n",
       "      <td>3929977</td>\n",
       "      <td>400.0</td>\n",
       "      <td>2</td>\n",
       "      <td>112</td>\n",
       "      <td>1027</td>\n",
       "      <td>624225</td>\n",
       "      <td>146410</td>\n",
       "      <td>564511</td>\n",
       "      <td>235526</td>\n",
       "    </tr>\n",
       "    <tr>\n",
       "      <td>Black Diamond</td>\n",
       "      <td>3.056450e+06</td>\n",
       "      <td>29</td>\n",
       "      <td>15.75</td>\n",
       "      <td>16770</td>\n",
       "      <td>225060</td>\n",
       "      <td>12.5</td>\n",
       "      <td>0</td>\n",
       "      <td>0</td>\n",
       "      <td>29</td>\n",
       "      <td>16270</td>\n",
       "      <td>500</td>\n",
       "      <td>17808</td>\n",
       "      <td>9966</td>\n",
       "    </tr>\n",
       "    <tr>\n",
       "      <td>Bothell</td>\n",
       "      <td>1.588758e+07</td>\n",
       "      <td>119</td>\n",
       "      <td>80.25</td>\n",
       "      <td>76540</td>\n",
       "      <td>298986</td>\n",
       "      <td>49.5</td>\n",
       "      <td>0</td>\n",
       "      <td>0</td>\n",
       "      <td>104</td>\n",
       "      <td>64610</td>\n",
       "      <td>11930</td>\n",
       "      <td>65429</td>\n",
       "      <td>23996</td>\n",
       "    </tr>\n",
       "    <tr>\n",
       "      <td>Burien</td>\n",
       "      <td>2.582210e+07</td>\n",
       "      <td>247</td>\n",
       "      <td>129.25</td>\n",
       "      <td>134335</td>\n",
       "      <td>899733</td>\n",
       "      <td>89.5</td>\n",
       "      <td>3</td>\n",
       "      <td>40</td>\n",
       "      <td>263</td>\n",
       "      <td>108665</td>\n",
       "      <td>25670</td>\n",
       "      <td>144844</td>\n",
       "      <td>87612</td>\n",
       "    </tr>\n",
       "    <tr>\n",
       "      <td>Carnation</td>\n",
       "      <td>1.119254e+07</td>\n",
       "      <td>68</td>\n",
       "      <td>47.75</td>\n",
       "      <td>52634</td>\n",
       "      <td>1427223</td>\n",
       "      <td>33.5</td>\n",
       "      <td>0</td>\n",
       "      <td>7</td>\n",
       "      <td>68</td>\n",
       "      <td>48514</td>\n",
       "      <td>4120</td>\n",
       "      <td>43622</td>\n",
       "      <td>16001</td>\n",
       "    </tr>\n",
       "    <tr>\n",
       "      <td>Clyde Hill</td>\n",
       "      <td>1.454140e+07</td>\n",
       "      <td>46</td>\n",
       "      <td>28.75</td>\n",
       "      <td>39830</td>\n",
       "      <td>215973</td>\n",
       "      <td>13.0</td>\n",
       "      <td>0</td>\n",
       "      <td>9</td>\n",
       "      <td>39</td>\n",
       "      <td>27750</td>\n",
       "      <td>12080</td>\n",
       "      <td>21609</td>\n",
       "      <td>12012</td>\n",
       "    </tr>\n",
       "    <tr>\n",
       "      <td>Covington</td>\n",
       "      <td>1.273791e+07</td>\n",
       "      <td>143</td>\n",
       "      <td>84.75</td>\n",
       "      <td>77080</td>\n",
       "      <td>521288</td>\n",
       "      <td>58.0</td>\n",
       "      <td>0</td>\n",
       "      <td>0</td>\n",
       "      <td>157</td>\n",
       "      <td>70900</td>\n",
       "      <td>6180</td>\n",
       "      <td>85340</td>\n",
       "      <td>23999</td>\n",
       "    </tr>\n",
       "    <tr>\n",
       "      <td>Des Moines</td>\n",
       "      <td>1.768957e+07</td>\n",
       "      <td>188</td>\n",
       "      <td>108.00</td>\n",
       "      <td>105132</td>\n",
       "      <td>610027</td>\n",
       "      <td>72.5</td>\n",
       "      <td>2</td>\n",
       "      <td>40</td>\n",
       "      <td>202</td>\n",
       "      <td>87552</td>\n",
       "      <td>17580</td>\n",
       "      <td>113952</td>\n",
       "      <td>65949</td>\n",
       "    </tr>\n",
       "    <tr>\n",
       "      <td>Duvall</td>\n",
       "      <td>1.696775e+07</td>\n",
       "      <td>142</td>\n",
       "      <td>95.25</td>\n",
       "      <td>90785</td>\n",
       "      <td>1908747</td>\n",
       "      <td>69.0</td>\n",
       "      <td>0</td>\n",
       "      <td>0</td>\n",
       "      <td>129</td>\n",
       "      <td>84455</td>\n",
       "      <td>6330</td>\n",
       "      <td>83636</td>\n",
       "      <td>21847</td>\n",
       "    </tr>\n",
       "    <tr>\n",
       "      <td>Enumclaw</td>\n",
       "      <td>8.613208e+06</td>\n",
       "      <td>89</td>\n",
       "      <td>49.25</td>\n",
       "      <td>53830</td>\n",
       "      <td>2616051</td>\n",
       "      <td>36.5</td>\n",
       "      <td>0</td>\n",
       "      <td>17</td>\n",
       "      <td>110</td>\n",
       "      <td>51070</td>\n",
       "      <td>2760</td>\n",
       "      <td>55111</td>\n",
       "      <td>9947</td>\n",
       "    </tr>\n",
       "    <tr>\n",
       "      <td>Fall City</td>\n",
       "      <td>7.619500e+06</td>\n",
       "      <td>42</td>\n",
       "      <td>28.25</td>\n",
       "      <td>31525</td>\n",
       "      <td>1008495</td>\n",
       "      <td>15.0</td>\n",
       "      <td>0</td>\n",
       "      <td>3</td>\n",
       "      <td>36</td>\n",
       "      <td>28730</td>\n",
       "      <td>2795</td>\n",
       "      <td>21699</td>\n",
       "      <td>10007</td>\n",
       "    </tr>\n",
       "    <tr>\n",
       "      <td>Federal Way</td>\n",
       "      <td>4.290338e+07</td>\n",
       "      <td>518</td>\n",
       "      <td>312.00</td>\n",
       "      <td>304009</td>\n",
       "      <td>1695371</td>\n",
       "      <td>199.0</td>\n",
       "      <td>1</td>\n",
       "      <td>26</td>\n",
       "      <td>508</td>\n",
       "      <td>262716</td>\n",
       "      <td>41293</td>\n",
       "      <td>292772</td>\n",
       "      <td>101872</td>\n",
       "    </tr>\n",
       "    <tr>\n",
       "      <td>Inglewood-Finn Hill</td>\n",
       "      <td>4.250000e+05</td>\n",
       "      <td>4</td>\n",
       "      <td>2.00</td>\n",
       "      <td>1520</td>\n",
       "      <td>7983</td>\n",
       "      <td>1.0</td>\n",
       "      <td>0</td>\n",
       "      <td>0</td>\n",
       "      <td>5</td>\n",
       "      <td>1520</td>\n",
       "      <td>0</td>\n",
       "      <td>1967</td>\n",
       "      <td>0</td>\n",
       "    </tr>\n",
       "    <tr>\n",
       "      <td>Issaquah</td>\n",
       "      <td>1.114826e+08</td>\n",
       "      <td>666</td>\n",
       "      <td>485.00</td>\n",
       "      <td>459804</td>\n",
       "      <td>4623402</td>\n",
       "      <td>336.5</td>\n",
       "      <td>1</td>\n",
       "      <td>17</td>\n",
       "      <td>619</td>\n",
       "      <td>396944</td>\n",
       "      <td>62860</td>\n",
       "      <td>372638</td>\n",
       "      <td>75885</td>\n",
       "    </tr>\n",
       "    <tr>\n",
       "      <td>Kenmore</td>\n",
       "      <td>2.953461e+07</td>\n",
       "      <td>235</td>\n",
       "      <td>145.00</td>\n",
       "      <td>139295</td>\n",
       "      <td>851578</td>\n",
       "      <td>98.0</td>\n",
       "      <td>0</td>\n",
       "      <td>7</td>\n",
       "      <td>223</td>\n",
       "      <td>118275</td>\n",
       "      <td>21020</td>\n",
       "      <td>130638</td>\n",
       "      <td>45896</td>\n",
       "    </tr>\n",
       "    <tr>\n",
       "      <td>Kent</td>\n",
       "      <td>8.130610e+07</td>\n",
       "      <td>640</td>\n",
       "      <td>395.75</td>\n",
       "      <td>366535</td>\n",
       "      <td>2804031</td>\n",
       "      <td>269.0</td>\n",
       "      <td>0</td>\n",
       "      <td>6</td>\n",
       "      <td>651</td>\n",
       "      <td>327475</td>\n",
       "      <td>39060</td>\n",
       "      <td>366690</td>\n",
       "      <td>91970</td>\n",
       "    </tr>\n",
       "    <tr>\n",
       "      <td>Kirkland</td>\n",
       "      <td>1.218461e+08</td>\n",
       "      <td>662</td>\n",
       "      <td>435.25</td>\n",
       "      <td>422523</td>\n",
       "      <td>1929411</td>\n",
       "      <td>273.0</td>\n",
       "      <td>1</td>\n",
       "      <td>31</td>\n",
       "      <td>653</td>\n",
       "      <td>365613</td>\n",
       "      <td>56910</td>\n",
       "      <td>370145</td>\n",
       "      <td>123966</td>\n",
       "    </tr>\n",
       "    <tr>\n",
       "      <td>Lake Forest Park</td>\n",
       "      <td>1.614510e+07</td>\n",
       "      <td>135</td>\n",
       "      <td>81.75</td>\n",
       "      <td>82190</td>\n",
       "      <td>436985</td>\n",
       "      <td>45.0</td>\n",
       "      <td>0</td>\n",
       "      <td>12</td>\n",
       "      <td>123</td>\n",
       "      <td>64750</td>\n",
       "      <td>17440</td>\n",
       "      <td>70758</td>\n",
       "      <td>45958</td>\n",
       "    </tr>\n",
       "    <tr>\n",
       "      <td>Maple Valley</td>\n",
       "      <td>3.230159e+07</td>\n",
       "      <td>335</td>\n",
       "      <td>225.25</td>\n",
       "      <td>200260</td>\n",
       "      <td>1318114</td>\n",
       "      <td>172.5</td>\n",
       "      <td>0</td>\n",
       "      <td>4</td>\n",
       "      <td>304</td>\n",
       "      <td>196730</td>\n",
       "      <td>3530</td>\n",
       "      <td>191659</td>\n",
       "      <td>43895</td>\n",
       "    </tr>\n",
       "    <tr>\n",
       "      <td>Medina</td>\n",
       "      <td>2.251215e+07</td>\n",
       "      <td>45</td>\n",
       "      <td>33.50</td>\n",
       "      <td>45140</td>\n",
       "      <td>226888</td>\n",
       "      <td>18.0</td>\n",
       "      <td>0</td>\n",
       "      <td>5</td>\n",
       "      <td>38</td>\n",
       "      <td>37620</td>\n",
       "      <td>7520</td>\n",
       "      <td>21697</td>\n",
       "      <td>11979</td>\n",
       "    </tr>\n",
       "    <tr>\n",
       "      <td>Mercer Island</td>\n",
       "      <td>9.664832e+07</td>\n",
       "      <td>354</td>\n",
       "      <td>243.75</td>\n",
       "      <td>281677</td>\n",
       "      <td>1260270</td>\n",
       "      <td>137.5</td>\n",
       "      <td>5</td>\n",
       "      <td>73</td>\n",
       "      <td>326</td>\n",
       "      <td>225591</td>\n",
       "      <td>56086</td>\n",
       "      <td>169654</td>\n",
       "      <td>57848</td>\n",
       "    </tr>\n",
       "    <tr>\n",
       "      <td>Milton</td>\n",
       "      <td>5.700000e+05</td>\n",
       "      <td>6</td>\n",
       "      <td>3.50</td>\n",
       "      <td>2510</td>\n",
       "      <td>20300</td>\n",
       "      <td>2.0</td>\n",
       "      <td>0</td>\n",
       "      <td>0</td>\n",
       "      <td>8</td>\n",
       "      <td>2510</td>\n",
       "      <td>0</td>\n",
       "      <td>3966</td>\n",
       "      <td>0</td>\n",
       "    </tr>\n",
       "    <tr>\n",
       "      <td>Newcastle</td>\n",
       "      <td>2.197954e+07</td>\n",
       "      <td>124</td>\n",
       "      <td>83.00</td>\n",
       "      <td>88740</td>\n",
       "      <td>360853</td>\n",
       "      <td>57.0</td>\n",
       "      <td>0</td>\n",
       "      <td>0</td>\n",
       "      <td>122</td>\n",
       "      <td>85790</td>\n",
       "      <td>2950</td>\n",
       "      <td>65651</td>\n",
       "      <td>7844</td>\n",
       "    </tr>\n",
       "    <tr>\n",
       "      <td>Normandy Park</td>\n",
       "      <td>9.122275e+06</td>\n",
       "      <td>62</td>\n",
       "      <td>36.25</td>\n",
       "      <td>37679</td>\n",
       "      <td>241943</td>\n",
       "      <td>19.0</td>\n",
       "      <td>1</td>\n",
       "      <td>14</td>\n",
       "      <td>70</td>\n",
       "      <td>30919</td>\n",
       "      <td>6760</td>\n",
       "      <td>35293</td>\n",
       "      <td>19939</td>\n",
       "    </tr>\n",
       "    <tr>\n",
       "      <td>North Bend</td>\n",
       "      <td>1.997829e+07</td>\n",
       "      <td>165</td>\n",
       "      <td>110.00</td>\n",
       "      <td>99770</td>\n",
       "      <td>1602684</td>\n",
       "      <td>78.5</td>\n",
       "      <td>0</td>\n",
       "      <td>11</td>\n",
       "      <td>166</td>\n",
       "      <td>93960</td>\n",
       "      <td>5810</td>\n",
       "      <td>99164</td>\n",
       "      <td>45485</td>\n",
       "    </tr>\n",
       "    <tr>\n",
       "      <td>Pacific</td>\n",
       "      <td>1.351400e+06</td>\n",
       "      <td>20</td>\n",
       "      <td>11.75</td>\n",
       "      <td>9125</td>\n",
       "      <td>54955</td>\n",
       "      <td>8.0</td>\n",
       "      <td>0</td>\n",
       "      <td>0</td>\n",
       "      <td>19</td>\n",
       "      <td>9125</td>\n",
       "      <td>0</td>\n",
       "      <td>11960</td>\n",
       "      <td>2014</td>\n",
       "    </tr>\n",
       "    <tr>\n",
       "      <td>Preston</td>\n",
       "      <td>1.124900e+06</td>\n",
       "      <td>5</td>\n",
       "      <td>4.75</td>\n",
       "      <td>4560</td>\n",
       "      <td>232260</td>\n",
       "      <td>3.5</td>\n",
       "      <td>0</td>\n",
       "      <td>0</td>\n",
       "      <td>9</td>\n",
       "      <td>4410</td>\n",
       "      <td>150</td>\n",
       "      <td>3899</td>\n",
       "      <td>1988</td>\n",
       "    </tr>\n",
       "    <tr>\n",
       "      <td>Ravensdale</td>\n",
       "      <td>3.598500e+06</td>\n",
       "      <td>24</td>\n",
       "      <td>14.25</td>\n",
       "      <td>18290</td>\n",
       "      <td>924120</td>\n",
       "      <td>12.0</td>\n",
       "      <td>0</td>\n",
       "      <td>0</td>\n",
       "      <td>22</td>\n",
       "      <td>18290</td>\n",
       "      <td>0</td>\n",
       "      <td>13902</td>\n",
       "      <td>4001</td>\n",
       "    </tr>\n",
       "    <tr>\n",
       "      <td>Redmond</td>\n",
       "      <td>1.568976e+08</td>\n",
       "      <td>804</td>\n",
       "      <td>559.50</td>\n",
       "      <td>585564</td>\n",
       "      <td>5625005</td>\n",
       "      <td>367.5</td>\n",
       "      <td>2</td>\n",
       "      <td>13</td>\n",
       "      <td>761</td>\n",
       "      <td>537834</td>\n",
       "      <td>47730</td>\n",
       "      <td>467533</td>\n",
       "      <td>123769</td>\n",
       "    </tr>\n",
       "    <tr>\n",
       "      <td>Renton</td>\n",
       "      <td>1.104730e+08</td>\n",
       "      <td>1020</td>\n",
       "      <td>621.75</td>\n",
       "      <td>619625</td>\n",
       "      <td>4264883</td>\n",
       "      <td>434.5</td>\n",
       "      <td>1</td>\n",
       "      <td>40</td>\n",
       "      <td>1006</td>\n",
       "      <td>553975</td>\n",
       "      <td>65650</td>\n",
       "      <td>580511</td>\n",
       "      <td>214979</td>\n",
       "    </tr>\n",
       "    <tr>\n",
       "      <td>Sammamish</td>\n",
       "      <td>1.202106e+08</td>\n",
       "      <td>652</td>\n",
       "      <td>451.25</td>\n",
       "      <td>495271</td>\n",
       "      <td>2822283</td>\n",
       "      <td>309.5</td>\n",
       "      <td>3</td>\n",
       "      <td>34</td>\n",
       "      <td>554</td>\n",
       "      <td>466211</td>\n",
       "      <td>29060</td>\n",
       "      <td>348542</td>\n",
       "      <td>121920</td>\n",
       "    </tr>\n",
       "    <tr>\n",
       "      <td>SeaTac</td>\n",
       "      <td>7.113428e+06</td>\n",
       "      <td>95</td>\n",
       "      <td>50.00</td>\n",
       "      <td>48677</td>\n",
       "      <td>332628</td>\n",
       "      <td>34.5</td>\n",
       "      <td>0</td>\n",
       "      <td>5</td>\n",
       "      <td>93</td>\n",
       "      <td>41623</td>\n",
       "      <td>7054</td>\n",
       "      <td>56998</td>\n",
       "      <td>25994</td>\n",
       "    </tr>\n",
       "    <tr>\n",
       "      <td>Seattle</td>\n",
       "      <td>9.120843e+08</td>\n",
       "      <td>4986</td>\n",
       "      <td>3086.50</td>\n",
       "      <td>2876425</td>\n",
       "      <td>8378782</td>\n",
       "      <td>2408.0</td>\n",
       "      <td>4</td>\n",
       "      <td>468</td>\n",
       "      <td>5542</td>\n",
       "      <td>2261549</td>\n",
       "      <td>614876</td>\n",
       "      <td>3071029</td>\n",
       "      <td>1560768</td>\n",
       "    </tr>\n",
       "    <tr>\n",
       "      <td>Shoreline</td>\n",
       "      <td>5.170826e+07</td>\n",
       "      <td>407</td>\n",
       "      <td>221.50</td>\n",
       "      <td>218305</td>\n",
       "      <td>1119591</td>\n",
       "      <td>150.0</td>\n",
       "      <td>0</td>\n",
       "      <td>28</td>\n",
       "      <td>448</td>\n",
       "      <td>183215</td>\n",
       "      <td>35090</td>\n",
       "      <td>241051</td>\n",
       "      <td>149563</td>\n",
       "    </tr>\n",
       "    <tr>\n",
       "      <td>Skykomish</td>\n",
       "      <td>6.990000e+05</td>\n",
       "      <td>8</td>\n",
       "      <td>5.00</td>\n",
       "      <td>4070</td>\n",
       "      <td>108126</td>\n",
       "      <td>5.0</td>\n",
       "      <td>0</td>\n",
       "      <td>0</td>\n",
       "      <td>10</td>\n",
       "      <td>4070</td>\n",
       "      <td>0</td>\n",
       "      <td>5890</td>\n",
       "      <td>2003</td>\n",
       "    </tr>\n",
       "    <tr>\n",
       "      <td>Snoqualmie</td>\n",
       "      <td>3.807768e+07</td>\n",
       "      <td>254</td>\n",
       "      <td>187.00</td>\n",
       "      <td>192840</td>\n",
       "      <td>1250774</td>\n",
       "      <td>133.0</td>\n",
       "      <td>0</td>\n",
       "      <td>20</td>\n",
       "      <td>215</td>\n",
       "      <td>185120</td>\n",
       "      <td>7720</td>\n",
       "      <td>141974</td>\n",
       "      <td>31533</td>\n",
       "    </tr>\n",
       "    <tr>\n",
       "      <td>Snoqualmie Pass</td>\n",
       "      <td>5.250000e+05</td>\n",
       "      <td>3</td>\n",
       "      <td>2.75</td>\n",
       "      <td>2100</td>\n",
       "      <td>10362</td>\n",
       "      <td>2.0</td>\n",
       "      <td>0</td>\n",
       "      <td>0</td>\n",
       "      <td>3</td>\n",
       "      <td>1510</td>\n",
       "      <td>590</td>\n",
       "      <td>1998</td>\n",
       "      <td>2006</td>\n",
       "    </tr>\n",
       "    <tr>\n",
       "      <td>Tukwila</td>\n",
       "      <td>8.940412e+06</td>\n",
       "      <td>89</td>\n",
       "      <td>48.25</td>\n",
       "      <td>49480</td>\n",
       "      <td>333348</td>\n",
       "      <td>40.0</td>\n",
       "      <td>0</td>\n",
       "      <td>2</td>\n",
       "      <td>88</td>\n",
       "      <td>41120</td>\n",
       "      <td>8360</td>\n",
       "      <td>56736</td>\n",
       "      <td>36008</td>\n",
       "    </tr>\n",
       "    <tr>\n",
       "      <td>Vashon</td>\n",
       "      <td>1.370415e+07</td>\n",
       "      <td>80</td>\n",
       "      <td>53.75</td>\n",
       "      <td>54801</td>\n",
       "      <td>2429055</td>\n",
       "      <td>44.0</td>\n",
       "      <td>7</td>\n",
       "      <td>36</td>\n",
       "      <td>104</td>\n",
       "      <td>50786</td>\n",
       "      <td>4015</td>\n",
       "      <td>56984</td>\n",
       "      <td>25950</td>\n",
       "    </tr>\n",
       "    <tr>\n",
       "      <td>Woodinville</td>\n",
       "      <td>7.009998e+07</td>\n",
       "      <td>409</td>\n",
       "      <td>273.50</td>\n",
       "      <td>306246</td>\n",
       "      <td>4873403</td>\n",
       "      <td>178.0</td>\n",
       "      <td>0</td>\n",
       "      <td>3</td>\n",
       "      <td>389</td>\n",
       "      <td>276600</td>\n",
       "      <td>29646</td>\n",
       "      <td>228011</td>\n",
       "      <td>90011</td>\n",
       "    </tr>\n",
       "    <tr>\n",
       "      <td>Yarrow Point</td>\n",
       "      <td>4.779350e+06</td>\n",
       "      <td>15</td>\n",
       "      <td>7.75</td>\n",
       "      <td>9890</td>\n",
       "      <td>53492</td>\n",
       "      <td>8.0</td>\n",
       "      <td>0</td>\n",
       "      <td>2</td>\n",
       "      <td>15</td>\n",
       "      <td>9890</td>\n",
       "      <td>0</td>\n",
       "      <td>7863</td>\n",
       "      <td>3968</td>\n",
       "    </tr>\n",
       "  </tbody>\n",
       "</table>\n",
       "</div>"
      ],
      "text/plain": [
       "                            price  bedrooms  bathrooms  sqft_living  sqft_lot  \\\n",
       "city                                                                            \n",
       "Algona               1.036440e+06        16       9.50         8043     57471   \n",
       "Auburn               5.268392e+07       602     368.25       355446   4399863   \n",
       "Beaux Arts Village   7.450000e+05         3       1.75         1490      9800   \n",
       "Bellevue             2.422937e+08      1088     701.75       770635   3929977   \n",
       "Black Diamond        3.056450e+06        29      15.75        16770    225060   \n",
       "Bothell              1.588758e+07       119      80.25        76540    298986   \n",
       "Burien               2.582210e+07       247     129.25       134335    899733   \n",
       "Carnation            1.119254e+07        68      47.75        52634   1427223   \n",
       "Clyde Hill           1.454140e+07        46      28.75        39830    215973   \n",
       "Covington            1.273791e+07       143      84.75        77080    521288   \n",
       "Des Moines           1.768957e+07       188     108.00       105132    610027   \n",
       "Duvall               1.696775e+07       142      95.25        90785   1908747   \n",
       "Enumclaw             8.613208e+06        89      49.25        53830   2616051   \n",
       "Fall City            7.619500e+06        42      28.25        31525   1008495   \n",
       "Federal Way          4.290338e+07       518     312.00       304009   1695371   \n",
       "Inglewood-Finn Hill  4.250000e+05         4       2.00         1520      7983   \n",
       "Issaquah             1.114826e+08       666     485.00       459804   4623402   \n",
       "Kenmore              2.953461e+07       235     145.00       139295    851578   \n",
       "Kent                 8.130610e+07       640     395.75       366535   2804031   \n",
       "Kirkland             1.218461e+08       662     435.25       422523   1929411   \n",
       "Lake Forest Park     1.614510e+07       135      81.75        82190    436985   \n",
       "Maple Valley         3.230159e+07       335     225.25       200260   1318114   \n",
       "Medina               2.251215e+07        45      33.50        45140    226888   \n",
       "Mercer Island        9.664832e+07       354     243.75       281677   1260270   \n",
       "Milton               5.700000e+05         6       3.50         2510     20300   \n",
       "Newcastle            2.197954e+07       124      83.00        88740    360853   \n",
       "Normandy Park        9.122275e+06        62      36.25        37679    241943   \n",
       "North Bend           1.997829e+07       165     110.00        99770   1602684   \n",
       "Pacific              1.351400e+06        20      11.75         9125     54955   \n",
       "Preston              1.124900e+06         5       4.75         4560    232260   \n",
       "Ravensdale           3.598500e+06        24      14.25        18290    924120   \n",
       "Redmond              1.568976e+08       804     559.50       585564   5625005   \n",
       "Renton               1.104730e+08      1020     621.75       619625   4264883   \n",
       "Sammamish            1.202106e+08       652     451.25       495271   2822283   \n",
       "SeaTac               7.113428e+06        95      50.00        48677    332628   \n",
       "Seattle              9.120843e+08      4986    3086.50      2876425   8378782   \n",
       "Shoreline            5.170826e+07       407     221.50       218305   1119591   \n",
       "Skykomish            6.990000e+05         8       5.00         4070    108126   \n",
       "Snoqualmie           3.807768e+07       254     187.00       192840   1250774   \n",
       "Snoqualmie Pass      5.250000e+05         3       2.75         2100     10362   \n",
       "Tukwila              8.940412e+06        89      48.25        49480    333348   \n",
       "Vashon               1.370415e+07        80      53.75        54801   2429055   \n",
       "Woodinville          7.009998e+07       409     273.50       306246   4873403   \n",
       "Yarrow Point         4.779350e+06        15       7.75         9890     53492   \n",
       "\n",
       "                     floors  waterfront  view  condition  sqft_above  \\\n",
       "city                                                                   \n",
       "Algona                  7.0           0     0         16        8043   \n",
       "Auburn                255.0           0    22        600      327756   \n",
       "Beaux Arts Village      1.0           0     0          4        1140   \n",
       "Bellevue              400.0           2   112       1027      624225   \n",
       "Black Diamond          12.5           0     0         29       16270   \n",
       "Bothell                49.5           0     0        104       64610   \n",
       "Burien                 89.5           3    40        263      108665   \n",
       "Carnation              33.5           0     7         68       48514   \n",
       "Clyde Hill             13.0           0     9         39       27750   \n",
       "Covington              58.0           0     0        157       70900   \n",
       "Des Moines             72.5           2    40        202       87552   \n",
       "Duvall                 69.0           0     0        129       84455   \n",
       "Enumclaw               36.5           0    17        110       51070   \n",
       "Fall City              15.0           0     3         36       28730   \n",
       "Federal Way           199.0           1    26        508      262716   \n",
       "Inglewood-Finn Hill     1.0           0     0          5        1520   \n",
       "Issaquah              336.5           1    17        619      396944   \n",
       "Kenmore                98.0           0     7        223      118275   \n",
       "Kent                  269.0           0     6        651      327475   \n",
       "Kirkland              273.0           1    31        653      365613   \n",
       "Lake Forest Park       45.0           0    12        123       64750   \n",
       "Maple Valley          172.5           0     4        304      196730   \n",
       "Medina                 18.0           0     5         38       37620   \n",
       "Mercer Island         137.5           5    73        326      225591   \n",
       "Milton                  2.0           0     0          8        2510   \n",
       "Newcastle              57.0           0     0        122       85790   \n",
       "Normandy Park          19.0           1    14         70       30919   \n",
       "North Bend             78.5           0    11        166       93960   \n",
       "Pacific                 8.0           0     0         19        9125   \n",
       "Preston                 3.5           0     0          9        4410   \n",
       "Ravensdale             12.0           0     0         22       18290   \n",
       "Redmond               367.5           2    13        761      537834   \n",
       "Renton                434.5           1    40       1006      553975   \n",
       "Sammamish             309.5           3    34        554      466211   \n",
       "SeaTac                 34.5           0     5         93       41623   \n",
       "Seattle              2408.0           4   468       5542     2261549   \n",
       "Shoreline             150.0           0    28        448      183215   \n",
       "Skykomish               5.0           0     0         10        4070   \n",
       "Snoqualmie            133.0           0    20        215      185120   \n",
       "Snoqualmie Pass         2.0           0     0          3        1510   \n",
       "Tukwila                40.0           0     2         88       41120   \n",
       "Vashon                 44.0           7    36        104       50786   \n",
       "Woodinville           178.0           0     3        389      276600   \n",
       "Yarrow Point            8.0           0     2         15        9890   \n",
       "\n",
       "                     sqft_basement  yr_built  yr_renovated  \n",
       "city                                                        \n",
       "Algona                           0      9916          4002  \n",
       "Auburn                       27690    348620        127734  \n",
       "Beaux Arts Village             350      1947          1988  \n",
       "Bellevue                    146410    564511        235526  \n",
       "Black Diamond                  500     17808          9966  \n",
       "Bothell                      11930     65429         23996  \n",
       "Burien                       25670    144844         87612  \n",
       "Carnation                     4120     43622         16001  \n",
       "Clyde Hill                   12080     21609         12012  \n",
       "Covington                     6180     85340         23999  \n",
       "Des Moines                   17580    113952         65949  \n",
       "Duvall                        6330     83636         21847  \n",
       "Enumclaw                      2760     55111          9947  \n",
       "Fall City                     2795     21699         10007  \n",
       "Federal Way                  41293    292772        101872  \n",
       "Inglewood-Finn Hill              0      1967             0  \n",
       "Issaquah                     62860    372638         75885  \n",
       "Kenmore                      21020    130638         45896  \n",
       "Kent                         39060    366690         91970  \n",
       "Kirkland                     56910    370145        123966  \n",
       "Lake Forest Park             17440     70758         45958  \n",
       "Maple Valley                  3530    191659         43895  \n",
       "Medina                        7520     21697         11979  \n",
       "Mercer Island                56086    169654         57848  \n",
       "Milton                           0      3966             0  \n",
       "Newcastle                     2950     65651          7844  \n",
       "Normandy Park                 6760     35293         19939  \n",
       "North Bend                    5810     99164         45485  \n",
       "Pacific                          0     11960          2014  \n",
       "Preston                        150      3899          1988  \n",
       "Ravensdale                       0     13902          4001  \n",
       "Redmond                      47730    467533        123769  \n",
       "Renton                       65650    580511        214979  \n",
       "Sammamish                    29060    348542        121920  \n",
       "SeaTac                        7054     56998         25994  \n",
       "Seattle                     614876   3071029       1560768  \n",
       "Shoreline                    35090    241051        149563  \n",
       "Skykomish                        0      5890          2003  \n",
       "Snoqualmie                    7720    141974         31533  \n",
       "Snoqualmie Pass                590      1998          2006  \n",
       "Tukwila                       8360     56736         36008  \n",
       "Vashon                        4015     56984         25950  \n",
       "Woodinville                  29646    228011         90011  \n",
       "Yarrow Point                     0      7863          3968  "
      ]
     },
     "execution_count": 19,
     "metadata": {},
     "output_type": "execute_result"
    }
   ],
   "source": [
    "df.groupby('city').sum()"
   ]
  },
  {
   "cell_type": "code",
   "execution_count": 20,
   "metadata": {
    "scrolled": true
   },
   "outputs": [
    {
     "data": {
      "text/html": [
       "<div>\n",
       "<style scoped>\n",
       "    .dataframe tbody tr th:only-of-type {\n",
       "        vertical-align: middle;\n",
       "    }\n",
       "\n",
       "    .dataframe tbody tr th {\n",
       "        vertical-align: top;\n",
       "    }\n",
       "\n",
       "    .dataframe thead th {\n",
       "        text-align: right;\n",
       "    }\n",
       "</style>\n",
       "<table border=\"1\" class=\"dataframe\">\n",
       "  <thead>\n",
       "    <tr style=\"text-align: right;\">\n",
       "      <th></th>\n",
       "      <th>price</th>\n",
       "      <th>bedrooms</th>\n",
       "      <th>bathrooms</th>\n",
       "      <th>sqft_living</th>\n",
       "      <th>sqft_lot</th>\n",
       "      <th>floors</th>\n",
       "      <th>waterfront</th>\n",
       "      <th>view</th>\n",
       "      <th>condition</th>\n",
       "      <th>sqft_above</th>\n",
       "      <th>sqft_basement</th>\n",
       "      <th>yr_built</th>\n",
       "      <th>yr_renovated</th>\n",
       "    </tr>\n",
       "  </thead>\n",
       "  <tbody>\n",
       "    <tr>\n",
       "      <td>price</td>\n",
       "      <td>1.000000</td>\n",
       "      <td>0.200336</td>\n",
       "      <td>0.327110</td>\n",
       "      <td>0.430410</td>\n",
       "      <td>0.050451</td>\n",
       "      <td>0.151461</td>\n",
       "      <td>0.135648</td>\n",
       "      <td>0.228504</td>\n",
       "      <td>0.034915</td>\n",
       "      <td>0.367570</td>\n",
       "      <td>0.210427</td>\n",
       "      <td>0.021857</td>\n",
       "      <td>-0.028774</td>\n",
       "    </tr>\n",
       "    <tr>\n",
       "      <td>bedrooms</td>\n",
       "      <td>0.200336</td>\n",
       "      <td>1.000000</td>\n",
       "      <td>0.545920</td>\n",
       "      <td>0.594884</td>\n",
       "      <td>0.068819</td>\n",
       "      <td>0.177895</td>\n",
       "      <td>-0.003483</td>\n",
       "      <td>0.111028</td>\n",
       "      <td>0.025080</td>\n",
       "      <td>0.484705</td>\n",
       "      <td>0.334165</td>\n",
       "      <td>0.142461</td>\n",
       "      <td>-0.061082</td>\n",
       "    </tr>\n",
       "    <tr>\n",
       "      <td>bathrooms</td>\n",
       "      <td>0.327110</td>\n",
       "      <td>0.545920</td>\n",
       "      <td>1.000000</td>\n",
       "      <td>0.761154</td>\n",
       "      <td>0.107837</td>\n",
       "      <td>0.486428</td>\n",
       "      <td>0.076232</td>\n",
       "      <td>0.211960</td>\n",
       "      <td>-0.119994</td>\n",
       "      <td>0.689918</td>\n",
       "      <td>0.298020</td>\n",
       "      <td>0.463498</td>\n",
       "      <td>-0.215886</td>\n",
       "    </tr>\n",
       "    <tr>\n",
       "      <td>sqft_living</td>\n",
       "      <td>0.430410</td>\n",
       "      <td>0.594884</td>\n",
       "      <td>0.761154</td>\n",
       "      <td>1.000000</td>\n",
       "      <td>0.210538</td>\n",
       "      <td>0.344850</td>\n",
       "      <td>0.117616</td>\n",
       "      <td>0.311009</td>\n",
       "      <td>-0.062826</td>\n",
       "      <td>0.876443</td>\n",
       "      <td>0.447206</td>\n",
       "      <td>0.287775</td>\n",
       "      <td>-0.122817</td>\n",
       "    </tr>\n",
       "    <tr>\n",
       "      <td>sqft_lot</td>\n",
       "      <td>0.050451</td>\n",
       "      <td>0.068819</td>\n",
       "      <td>0.107837</td>\n",
       "      <td>0.210538</td>\n",
       "      <td>1.000000</td>\n",
       "      <td>0.003750</td>\n",
       "      <td>0.017241</td>\n",
       "      <td>0.073907</td>\n",
       "      <td>0.000558</td>\n",
       "      <td>0.216455</td>\n",
       "      <td>0.034842</td>\n",
       "      <td>0.050706</td>\n",
       "      <td>-0.022730</td>\n",
       "    </tr>\n",
       "    <tr>\n",
       "      <td>floors</td>\n",
       "      <td>0.151461</td>\n",
       "      <td>0.177895</td>\n",
       "      <td>0.486428</td>\n",
       "      <td>0.344850</td>\n",
       "      <td>0.003750</td>\n",
       "      <td>1.000000</td>\n",
       "      <td>0.022024</td>\n",
       "      <td>0.031211</td>\n",
       "      <td>-0.275013</td>\n",
       "      <td>0.522814</td>\n",
       "      <td>-0.255510</td>\n",
       "      <td>0.467481</td>\n",
       "      <td>-0.233996</td>\n",
       "    </tr>\n",
       "    <tr>\n",
       "      <td>waterfront</td>\n",
       "      <td>0.135648</td>\n",
       "      <td>-0.003483</td>\n",
       "      <td>0.076232</td>\n",
       "      <td>0.117616</td>\n",
       "      <td>0.017241</td>\n",
       "      <td>0.022024</td>\n",
       "      <td>1.000000</td>\n",
       "      <td>0.360935</td>\n",
       "      <td>0.000352</td>\n",
       "      <td>0.078911</td>\n",
       "      <td>0.097501</td>\n",
       "      <td>-0.023563</td>\n",
       "      <td>0.008625</td>\n",
       "    </tr>\n",
       "    <tr>\n",
       "      <td>view</td>\n",
       "      <td>0.228504</td>\n",
       "      <td>0.111028</td>\n",
       "      <td>0.211960</td>\n",
       "      <td>0.311009</td>\n",
       "      <td>0.073907</td>\n",
       "      <td>0.031211</td>\n",
       "      <td>0.360935</td>\n",
       "      <td>1.000000</td>\n",
       "      <td>0.063077</td>\n",
       "      <td>0.174327</td>\n",
       "      <td>0.321602</td>\n",
       "      <td>-0.064465</td>\n",
       "      <td>0.022967</td>\n",
       "    </tr>\n",
       "    <tr>\n",
       "      <td>condition</td>\n",
       "      <td>0.034915</td>\n",
       "      <td>0.025080</td>\n",
       "      <td>-0.119994</td>\n",
       "      <td>-0.062826</td>\n",
       "      <td>0.000558</td>\n",
       "      <td>-0.275013</td>\n",
       "      <td>0.000352</td>\n",
       "      <td>0.063077</td>\n",
       "      <td>1.000000</td>\n",
       "      <td>-0.178196</td>\n",
       "      <td>0.200632</td>\n",
       "      <td>-0.399698</td>\n",
       "      <td>-0.186818</td>\n",
       "    </tr>\n",
       "    <tr>\n",
       "      <td>sqft_above</td>\n",
       "      <td>0.367570</td>\n",
       "      <td>0.484705</td>\n",
       "      <td>0.689918</td>\n",
       "      <td>0.876443</td>\n",
       "      <td>0.216455</td>\n",
       "      <td>0.522814</td>\n",
       "      <td>0.078911</td>\n",
       "      <td>0.174327</td>\n",
       "      <td>-0.178196</td>\n",
       "      <td>1.000000</td>\n",
       "      <td>-0.038723</td>\n",
       "      <td>0.408535</td>\n",
       "      <td>-0.160426</td>\n",
       "    </tr>\n",
       "    <tr>\n",
       "      <td>sqft_basement</td>\n",
       "      <td>0.210427</td>\n",
       "      <td>0.334165</td>\n",
       "      <td>0.298020</td>\n",
       "      <td>0.447206</td>\n",
       "      <td>0.034842</td>\n",
       "      <td>-0.255510</td>\n",
       "      <td>0.097501</td>\n",
       "      <td>0.321602</td>\n",
       "      <td>0.200632</td>\n",
       "      <td>-0.038723</td>\n",
       "      <td>1.000000</td>\n",
       "      <td>-0.161675</td>\n",
       "      <td>0.043125</td>\n",
       "    </tr>\n",
       "    <tr>\n",
       "      <td>yr_built</td>\n",
       "      <td>0.021857</td>\n",
       "      <td>0.142461</td>\n",
       "      <td>0.463498</td>\n",
       "      <td>0.287775</td>\n",
       "      <td>0.050706</td>\n",
       "      <td>0.467481</td>\n",
       "      <td>-0.023563</td>\n",
       "      <td>-0.064465</td>\n",
       "      <td>-0.399698</td>\n",
       "      <td>0.408535</td>\n",
       "      <td>-0.161675</td>\n",
       "      <td>1.000000</td>\n",
       "      <td>-0.321342</td>\n",
       "    </tr>\n",
       "    <tr>\n",
       "      <td>yr_renovated</td>\n",
       "      <td>-0.028774</td>\n",
       "      <td>-0.061082</td>\n",
       "      <td>-0.215886</td>\n",
       "      <td>-0.122817</td>\n",
       "      <td>-0.022730</td>\n",
       "      <td>-0.233996</td>\n",
       "      <td>0.008625</td>\n",
       "      <td>0.022967</td>\n",
       "      <td>-0.186818</td>\n",
       "      <td>-0.160426</td>\n",
       "      <td>0.043125</td>\n",
       "      <td>-0.321342</td>\n",
       "      <td>1.000000</td>\n",
       "    </tr>\n",
       "  </tbody>\n",
       "</table>\n",
       "</div>"
      ],
      "text/plain": [
       "                  price  bedrooms  bathrooms  sqft_living  sqft_lot    floors  \\\n",
       "price          1.000000  0.200336   0.327110     0.430410  0.050451  0.151461   \n",
       "bedrooms       0.200336  1.000000   0.545920     0.594884  0.068819  0.177895   \n",
       "bathrooms      0.327110  0.545920   1.000000     0.761154  0.107837  0.486428   \n",
       "sqft_living    0.430410  0.594884   0.761154     1.000000  0.210538  0.344850   \n",
       "sqft_lot       0.050451  0.068819   0.107837     0.210538  1.000000  0.003750   \n",
       "floors         0.151461  0.177895   0.486428     0.344850  0.003750  1.000000   \n",
       "waterfront     0.135648 -0.003483   0.076232     0.117616  0.017241  0.022024   \n",
       "view           0.228504  0.111028   0.211960     0.311009  0.073907  0.031211   \n",
       "condition      0.034915  0.025080  -0.119994    -0.062826  0.000558 -0.275013   \n",
       "sqft_above     0.367570  0.484705   0.689918     0.876443  0.216455  0.522814   \n",
       "sqft_basement  0.210427  0.334165   0.298020     0.447206  0.034842 -0.255510   \n",
       "yr_built       0.021857  0.142461   0.463498     0.287775  0.050706  0.467481   \n",
       "yr_renovated  -0.028774 -0.061082  -0.215886    -0.122817 -0.022730 -0.233996   \n",
       "\n",
       "               waterfront      view  condition  sqft_above  sqft_basement  \\\n",
       "price            0.135648  0.228504   0.034915    0.367570       0.210427   \n",
       "bedrooms        -0.003483  0.111028   0.025080    0.484705       0.334165   \n",
       "bathrooms        0.076232  0.211960  -0.119994    0.689918       0.298020   \n",
       "sqft_living      0.117616  0.311009  -0.062826    0.876443       0.447206   \n",
       "sqft_lot         0.017241  0.073907   0.000558    0.216455       0.034842   \n",
       "floors           0.022024  0.031211  -0.275013    0.522814      -0.255510   \n",
       "waterfront       1.000000  0.360935   0.000352    0.078911       0.097501   \n",
       "view             0.360935  1.000000   0.063077    0.174327       0.321602   \n",
       "condition        0.000352  0.063077   1.000000   -0.178196       0.200632   \n",
       "sqft_above       0.078911  0.174327  -0.178196    1.000000      -0.038723   \n",
       "sqft_basement    0.097501  0.321602   0.200632   -0.038723       1.000000   \n",
       "yr_built        -0.023563 -0.064465  -0.399698    0.408535      -0.161675   \n",
       "yr_renovated     0.008625  0.022967  -0.186818   -0.160426       0.043125   \n",
       "\n",
       "               yr_built  yr_renovated  \n",
       "price          0.021857     -0.028774  \n",
       "bedrooms       0.142461     -0.061082  \n",
       "bathrooms      0.463498     -0.215886  \n",
       "sqft_living    0.287775     -0.122817  \n",
       "sqft_lot       0.050706     -0.022730  \n",
       "floors         0.467481     -0.233996  \n",
       "waterfront    -0.023563      0.008625  \n",
       "view          -0.064465      0.022967  \n",
       "condition     -0.399698     -0.186818  \n",
       "sqft_above     0.408535     -0.160426  \n",
       "sqft_basement -0.161675      0.043125  \n",
       "yr_built       1.000000     -0.321342  \n",
       "yr_renovated  -0.321342      1.000000  "
      ]
     },
     "execution_count": 20,
     "metadata": {},
     "output_type": "execute_result"
    }
   ],
   "source": [
    "df.corr(method='pearson')"
   ]
  },
  {
   "cell_type": "code",
   "execution_count": 21,
   "metadata": {},
   "outputs": [],
   "source": [
    "#categorial variables that are more correlated with the target variable is chosen\n",
    "corr_cat_var=['bedrooms','bathrooms','view','yr_built']"
   ]
  },
  {
   "cell_type": "code",
   "execution_count": 22,
   "metadata": {},
   "outputs": [
    {
     "data": {
      "text/plain": [
       "9"
      ]
     },
     "execution_count": 22,
     "metadata": {},
     "output_type": "execute_result"
    }
   ],
   "source": [
    "#would drop all observations with 0 bath and bed rooms\n",
    "df['bedrooms'].max()"
   ]
  },
  {
   "cell_type": "code",
   "execution_count": 23,
   "metadata": {
    "scrolled": true
   },
   "outputs": [
    {
     "data": {
      "image/png": "[encoded data removed]",
      "text/plain": [
       "<Figure size 1008x576 with 4 Axes>"
      ]
     },
     "metadata": {},
     "output_type": "display_data"
    }
   ],
   "source": [
    "fig, axes = plt.subplots(2, 2, figsize=(14, 8), sharey=True)\n",
    "\n",
    "for col, ax in zip(corr_cat_var, axes.flatten()):\n",
    "    df.groupby(col)['price'].mean().plot(kind='bar', ax=ax)\n",
    "\n",
    "fig.tight_layout()"
   ]
  },
  {
   "cell_type": "code",
   "execution_count": 24,
   "metadata": {},
   "outputs": [],
   "source": [
    "#continuous variables that are more correlated with the target variable than the others is chosen\n",
    "corr_con_var=['sqft_living','sqft_above','sqft_basement','floors']"
   ]
  },
  {
   "cell_type": "code",
   "execution_count": 25,
   "metadata": {},
   "outputs": [
    {
     "data": {
      "image/png": "[encoded data removed]",
      "text/plain": [
       "<Figure size 1008x576 with 4 Axes>"
      ]
     },
     "metadata": {},
     "output_type": "display_data"
    }
   ],
   "source": [
    "fig, axes = plt.subplots(2, 2, figsize=(14, 8), sharey=True)\n",
    "\n",
    "for col, ax in zip(corr_con_var, axes.flatten()):\n",
    "    df.plot(x=col, y = 'price', kind='scatter', ax=ax)\n",
    "\n",
    "fig.tight_layout()"
   ]
  },
  {
   "cell_type": "markdown",
   "metadata": {},
   "source": [
    "mean"
   ]
  },
  {
   "cell_type": "code",
   "execution_count": 52,
   "metadata": {
    "scrolled": true
   },
   "outputs": [
    {
     "data": {
      "text/plain": [
       "551962.9884730439"
      ]
     },
     "execution_count": 52,
     "metadata": {},
     "output_type": "execute_result"
    }
   ],
   "source": [
    "x=df['price']\n",
    "x_pred=x.mean()\n",
    "x_pred"
   ]
  },
  {
   "cell_type": "code",
   "execution_count": 53,
   "metadata": {},
   "outputs": [
    {
     "data": {
      "text/plain": [
       "742.9421165023854"
      ]
     },
     "execution_count": 53,
     "metadata": {},
     "output_type": "execute_result"
    }
   ],
   "source": [
    "pd.np.sqrt(551962.9884730439)"
   ]
  },
  {
   "cell_type": "code",
   "execution_count": 62,
   "metadata": {},
   "outputs": [
    {
     "data": {
      "text/plain": [
       "317840461019.57446"
      ]
     },
     "execution_count": 62,
     "metadata": {},
     "output_type": "execute_result"
    }
   ],
   "source": [
    "err=x-x_pred\n",
    "err_sq=err**2\n",
    "sum_err_sq=err_sq.sum()\n",
    "mse=sum_err_sq/len(x)\n",
    "mse"
   ]
  },
  {
   "cell_type": "markdown",
   "metadata": {},
   "source": [
    "median"
   ]
  },
  {
   "cell_type": "code",
   "execution_count": 65,
   "metadata": {},
   "outputs": [
    {
     "data": {
      "text/plain": [
       "460943.46155"
      ]
     },
     "execution_count": 65,
     "metadata": {},
     "output_type": "execute_result"
    }
   ],
   "source": [
    "x_pre=x.median()\n",
    "x_pre"
   ]
  },
  {
   "cell_type": "code",
   "execution_count": 67,
   "metadata": {},
   "outputs": [
    {
     "data": {
      "text/plain": [
       "678.9281711271083"
      ]
     },
     "execution_count": 67,
     "metadata": {},
     "output_type": "execute_result"
    }
   ],
   "source": [
    "pd.np.sqrt(460943.46155)"
   ]
  },
  {
   "cell_type": "code",
   "execution_count": 71,
   "metadata": {},
   "outputs": [
    {
     "data": {
      "text/plain": [
       "3472    339056.53845\n",
       "1153   -153943.46155\n",
       "2481    514056.53845\n",
       "2198     97056.53845\n",
       "1107    759056.53845\n",
       "Name: price, dtype: float64"
      ]
     },
     "execution_count": 71,
     "metadata": {},
     "output_type": "execute_result"
    }
   ],
   "source": [
    "p=x-x_pre\n",
    "p.sample(5)"
   ]
  },
  {
   "cell_type": "markdown",
   "metadata": {},
   "source": [
    "max"
   ]
  },
  {
   "cell_type": "code",
   "execution_count": 69,
   "metadata": {},
   "outputs": [
    {
     "data": {
      "text/plain": [
       "26590000.0"
      ]
     },
     "execution_count": 69,
     "metadata": {},
     "output_type": "execute_result"
    }
   ],
   "source": [
    "x=df['price']\n",
    "x_pred=x.max()\n",
    "x_pred"
   ]
  },
  {
   "cell_type": "markdown",
   "metadata": {},
   "source": [
    "min"
   ]
  },
  {
   "cell_type": "code",
   "execution_count": 70,
   "metadata": {},
   "outputs": [
    {
     "data": {
      "text/plain": [
       "0.0"
      ]
     },
     "execution_count": 70,
     "metadata": {},
     "output_type": "execute_result"
    }
   ],
   "source": [
    "x=df['price']\n",
    "x_pred=x.min()\n",
    "x_pred"
   ]
  },
  {
   "cell_type": "code",
   "execution_count": 74,
   "metadata": {},
   "outputs": [
    {
     "data": {
      "text/plain": [
       "city\n",
       "Algona                207288.000000\n",
       "Auburn                299340.442765\n",
       "Beaux Arts Village    745000.000000\n",
       "Bellevue              847180.662995\n",
       "Black Diamond         339605.555556\n",
       "Name: price, dtype: float64"
      ]
     },
     "execution_count": 74,
     "metadata": {},
     "output_type": "execute_result"
    }
   ],
   "source": [
    "city_mean = df.groupby('city')['price'].mean()\n",
    "city_mean.head()"
   ]
  },
  {
   "cell_type": "code",
   "execution_count": 76,
   "metadata": {},
   "outputs": [
    {
     "data": {
      "text/plain": [
       "622503601663.6676"
      ]
     },
     "execution_count": 76,
     "metadata": {},
     "output_type": "execute_result"
    }
   ],
   "source": [
    "mmse = ((x - x_pred) ** 2).sum() / len(x)\n",
    "mmse"
   ]
  }
 ],
 "metadata": {
  "kernelspec": {
   "display_name": "Python 3",
   "language": "python",
   "name": "python3"
  },
  "language_info": {
   "codemirror_mode": {
    "name": "ipython",
    "version": 3
   },
   "file_extension": ".py",
   "mimetype": "text/x-python",
   "name": "python",
   "nbconvert_exporter": "python",
   "pygments_lexer": "ipython3",
   "version": "3.7.4"
  }
 },
 "nbformat": 4,
 "nbformat_minor": 2
}
